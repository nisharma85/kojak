{
 "cells": [
  {
   "cell_type": "code",
   "execution_count": 1,
   "metadata": {
    "collapsed": true
   },
   "outputs": [],
   "source": [
    "import pandas as pd"
   ]
  },
  {
   "cell_type": "code",
   "execution_count": 2,
   "metadata": {
    "collapsed": false
   },
   "outputs": [],
   "source": [
    "comment=pd.read_csv('test.csv')"
   ]
  },
  {
   "cell_type": "code",
   "execution_count": 3,
   "metadata": {
    "collapsed": false
   },
   "outputs": [
    {
     "data": {
      "text/plain": [
       "Index([u'responsedate', u'Survey Type', u'CA Account ID', u'Account Name',\n",
       "       u'Segment', u'Coverage Model', u'Account Type', u'Language Preference',\n",
       "       u'Contact Full Name', u'Contact First Name',\n",
       "       ...\n",
       "       u'Executive_Comment_Sentiment1 ', u'Executive_Comment_Theme1 ',\n",
       "       u'Executive_Comment_Sub_Theme1 ', u'Executive_Comment_Sentiment2',\n",
       "       u'Executive_Comment_Theme2', u'Executive_Comment_Sub_Theme2',\n",
       "       u'Executive_Comment_Sentiment3', u'Executive_Comment_Theme3',\n",
       "       u'Executive_Comment_Sub_Theme3', u'Comments Answered'],\n",
       "      dtype='object', length=111)"
      ]
     },
     "execution_count": 3,
     "metadata": {},
     "output_type": "execute_result"
    }
   ],
   "source": [
    "comment.columns"
   ]
  },
  {
   "cell_type": "code",
   "execution_count": 4,
   "metadata": {
    "collapsed": false
   },
   "outputs": [
    {
     "data": {
      "text/plain": [
       "Positive    86\n",
       "Negative    35\n",
       "Neutral      6\n",
       "Name: Quality_Comment_Sentiment1 , dtype: int64"
      ]
     },
     "execution_count": 4,
     "metadata": {},
     "output_type": "execute_result"
    }
   ],
   "source": [
    "comment['Quality_Comment_Sentiment1 '].value_counts()"
   ]
  },
  {
   "cell_type": "code",
   "execution_count": 6,
   "metadata": {
    "collapsed": false
   },
   "outputs": [
    {
     "data": {
      "text/plain": [
       "Positive    22\n",
       "Negative    13\n",
       "Name: Quality_Comment_Sentiment2, dtype: int64"
      ]
     },
     "execution_count": 6,
     "metadata": {},
     "output_type": "execute_result"
    }
   ],
   "source": [
    "comment['Quality_Comment_Sentiment2'].value_counts()"
   ]
  },
  {
   "cell_type": "code",
   "execution_count": 7,
   "metadata": {
    "collapsed": false
   },
   "outputs": [
    {
     "data": {
      "text/plain": [
       "Negative    2\n",
       "Positive    1\n",
       "Name: Quality_Comment_Sentiment3, dtype: int64"
      ]
     },
     "execution_count": 7,
     "metadata": {},
     "output_type": "execute_result"
    }
   ],
   "source": [
    "comment['Quality_Comment_Sentiment3'].value_counts()"
   ]
  },
  {
   "cell_type": "code",
   "execution_count": 15,
   "metadata": {
    "collapsed": false
   },
   "outputs": [],
   "source": [
    "test1=comment[['Quality_Comment_Sentiment1 ', 'INS - Product Quality Comment']]"
   ]
  },
  {
   "cell_type": "code",
   "execution_count": 32,
   "metadata": {
    "collapsed": true
   },
   "outputs": [],
   "source": [
    "test1.columns=['sent', 'comment']"
   ]
  },
  {
   "cell_type": "code",
   "execution_count": 33,
   "metadata": {
    "collapsed": false
   },
   "outputs": [],
   "source": [
    "test2=test1['comment'].tolist()"
   ]
  },
  {
   "cell_type": "code",
   "execution_count": 34,
   "metadata": {
    "collapsed": true
   },
   "outputs": [],
   "source": [
    "def word_feats(words):\n",
    "        return dict([(word, True) for word in words])"
   ]
  },
  {
   "cell_type": "code",
   "execution_count": 29,
   "metadata": {
    "collapsed": false
   },
   "outputs": [
    {
     "data": {
      "text/plain": [
       "{nan: True,\n",
       " '-': True,\n",
       " '- CA denkt in Produkt Funktionalit\\x8at und leider noch nicht in Use Cases\\r- Easy to use und simplyfied usage ist weiterhin eine Herausforderung\\r- Der Enduser sollte im Focus stehen\\r- Integrations Scenarien sollten \"Out of the Box\" zur Verf\\x9fgung stehen': True,\n",
       " \"- Learn about the loyal customers and player\\r- Don't ignore customer requirements and frustrations\\r- Reduce work to custmer when comes to troubleshooting\\r- Create a profile (technology and empathic) for your customer, so you will not ask same question again and again\": True,\n",
       " '- Make the product more Agile focused and Agile friendly. This is where the Delivery Model is headed. \\r- Make the data interaction with excel 2-way.\\r- Have an archiving solution.\\r- Make bug-fix turnaround quicker.': True,\n",
       " '- Nos gustar\\x92a contar con la posibilidad de migrar service desk y service catalog a soluciones en la nube.\\r- Sugiero se mejore la calidad de la herramienta ITCA, ya que hemos tenido bastantes inconvenientes con este producto.': True,\n",
       " '- Simplify architecture and get rid of legacy i.e Provisioning/Connector server, SiteMinder integration.\\r- Simplify troubleshooting\\r- Improve error handeling.\\r- Improve UI': True,\n",
       " '.': True,\n",
       " '1- Product Stability.\\r2- Product Functionality:  There seems to be some basic functionality missing in products like SOI. Like the ability to reset an alerts severity by just calling a function via a policy or escalation.  Or correlating \"some alert\" to close when some other specific alert comes in. Or scheduling maintenance windows in Spectrum that start on a specific day and end on a specific day.\\r3- Product automation:  There are a lot of manual steps required to maintain products like Spectrum and CAPC.\\r4- Upgrades:  CA needs to understand that it\\'s not feasible for most large companies to perform multiple upgrades per year.': True,\n",
       " '1. Deploymentverfahren\\r2. \\x86berhaupt bzw. bestenfalls nachvollziehbare(re) Fehlerhinweise, sowohl a) an der Oberfl\\x8ache (z.B. Ausgabe von Job-Statistiken und inhaltlich nachvollziehbaren Protokollen) als auch b) in den Logdateien.': True,\n",
       " \"1. It needs to be clearer what the products are doing under the hood. We seem to have to go to support for everything because it's difficult to interpret log messages or even understand what processes are doing. \\r2. More up to date 3rd party/open source packages. Particularly noticeable for eHealth with Apache, OpenSSL, and Oracle. \\r3. Better documentation. Some of the eHealth user documentation I'm using is from circa 2007 because the more recent documentation doesn't cover the topic in any detail. Often I need to go to 2-3 locations to determine the step by step process for a task.\\r4. More fully embrace customisations and automation. In NetQoS NFA, I need to manually click buttons to add interfaces to groups. Why can't I use DCI rules like eHealth ?\": True,\n",
       " '1. They deliver what they are built for. \\r2. Ease of use compared to some of the competition tools.\\r3. Adoption support with online trainings, journals, tutorials etc. \\r4. Already established in industry so less selling efforts for us.': True,\n",
       " '1.-Que CA cuente con mayor Personal Tecnico para dar un servico mas eficiente e inmediato en la instalacion y soporte tecnico.\\r2.-Que los productos senan mas amigables tanto en su descarga como en su instalacion, para NO tener demasida dependencia de CA. Usa.\\r3.- Contar con procedimentos de respaldo, mantenimiento y recuperacion inmediata para casos de contingencias.': True,\n",
       " '100%': True,\n",
       " '20 years of my working life have been based on your products. I work with Endevor and Endevor works for me.': True,\n",
       " 'A more intuitive interface with the user in mind. The Current system appears to be setup around the data structures and not very flexible to change': True,\n",
       " 'A nivel de infraestructura tecnol\\x97gica se ha logrado hacer una aproximaci\\x97n del servicio que T.I ofrece a los negocios en t\\x8erminos de disponibilidad con detecci\\x97n temprana de eventos\\r\\rDon': True,\n",
       " 'APM / SA met the expectations': True,\n",
       " 'Ability to document transaction flows.': True,\n",
       " 'Account team, Services, Support and BU teams communications have been very productive, and they all have delivered on expectations.': True,\n",
       " 'Adding regression testing to your release process.': True,\n",
       " 'Additional testing on the same platform/database in use by large customers.': True,\n",
       " 'Alarm Management of the network environment and reporting on performance related issues.': True,\n",
       " 'All of the following is from a Partner perspective and could, if CA desires, be limited to Partners only (not general public):\\rimproved (and verified/validated) documentation.  Provide more \"Ho to\" documentation that describes common functionality in a step-by-step guide\\rprovide pre-built virtual machines/templates (similar to User Activity Reporting Module) to ease install/configuration\\rprovide more run books that describe install/config similar to what is provided to CA professional services when engaged': True,\n",
       " 'All products are proven and work great in our environment.  Great technical support.': True,\n",
       " 'Allow bug fixes to be applied to current release instead of requiring upgrades to new versions which requires that we do extensive regression testing.': True,\n",
       " 'Allows us to monitor a hughe production estate quickly, consistently and reliably': True,\n",
       " 'Already provided  to CA': True,\n",
       " 'Already stated in previous answers': True,\n",
       " 'Am\\x8elioration de la r\\x8esiliance, stabilit\\x8e, robustesse et performance.\\rPar ailleurs les produits sont mal int\\x8egr\\x8es (ex : ITCM et Service Desk)\\rEnfin les produits pourraient avoir couverture fonctionnelle plus importance (ex. : CA pourrait proposer une Gestion de configuration des objets d\\x8eploy\\x8es avec ITCM)': True,\n",
       " 'Articulate your product strategy. Make your Customers exciting about your products. Make them want to use your products.': True,\n",
       " 'As above': True,\n",
       " 'As mentioned for one of the earlier question.': True,\n",
       " 'Asegurando la correcta operaci\\x97n de los sistemas en cuanto al uso del producto XCOM.': True,\n",
       " 'At the very least remove Niku from Calrify product': True,\n",
       " 'A\\x9cn tiene bastantes fallos y aguanta menos carga de la inicialmente indicada.': True,\n",
       " 'Bajo mi punto de vista, existe una oportunidad de mejora clara en el soporte del prodcuto. La mayor\\x92a de los tickets que abrimos con Soporte no nos proporcionan soluciones.': True,\n",
       " 'Be consistent in you library files and locations:\\rCA/SC or CA/Shared Components???': True,\n",
       " 'Be more agile!': True,\n",
       " 'Be resposive to requests for help': True,\n",
       " 'Been able to develop the key capabilities we attempted': True,\n",
       " 'Better Testing and Integration of ControlMinder with other OS and Software Platforms.': True,\n",
       " 'Better account management with IT stakeholders so they better understand what the software can do.': True,\n",
       " 'Better documentation.': True,\n",
       " 'Better engineer support when issues arise, for customers using the success advocate program.': True,\n",
       " \"Better field / beta testing reflecting 'real' world environments before final release.\": True,\n",
       " 'Better integration between the products and SaaS model by default. Integration should be so good as the product to become the portfolio and the products should be optional modules.': True,\n",
       " \"Better integration of product components, documentation, and support. I don't want to have to bounce between multiple product manuals to figure out how to deal with issues on CA Compliance Manager.\": True,\n",
       " 'Better management of SPS configuration settings to keep support persons out of XML for the proxy server.': True,\n",
       " 'Better multi-tenant capability': True,\n",
       " 'Better product support, Ease of use/maintenance, enhanced end-user usability, more robust functionality': True,\n",
       " 'Better regression testing.  Things that worked fine prior to a release no longer work as they did before.': True,\n",
       " 'Better stability and ease of integration': True,\n",
       " 'Better testing before generally available.  Better assessment of environment the product is being deployed in to make sure product is the sized properly and can accomplish the end result.': True,\n",
       " 'Better testing on the OWB part': True,\n",
       " 'Better testing/QA.': True,\n",
       " 'Both Lisa and Pathfinder are still maturing. One good thing is that CA is seeing the areas where it needs to be improved and working with us to make the product robust': True,\n",
       " 'Buena': True,\n",
       " \"Build a functional library and build tests which exercise all functions of the product. Execute all tests in QA phase and don't release a product which fails these tests.\\rDon't release a product to meet a schedule; release it when its ready.\": True,\n",
       " 'By listening to the customer requirements posted on the ideation boards in communities.': True,\n",
       " 'CA APM should be easier to upgrade local agent instead of a manual process.': True,\n",
       " 'CA DIrectory has no reporting capabilites, no monitoring and the DXManager would be rated a 3.\\r\\rCA Federation Manager - I commented on this tool earlier, but it\\'s also not stable, not failover tolorant, not able to add clients \"on the fly\", can\\'t manage multiple administrative accounts, this is NOT an enterprise solution tool. These things may have been improved in later versions of CAFM, we didn\\'t upgrade, we switched to Ping.': True,\n",
       " 'CA LISA': True,\n",
       " 'CA Monitoring (Nimsoft) is requiring contract resources to install, configure and setup.  In our deployment, the installation and setup demands temper the progress of rolling out the solution.': True,\n",
       " 'CA PC was installed by professional services - which wound up being so poor it was destroyed and recreated.  Afterwhich the SWAT team came onsite and installed it 3 more times due to issues with it.  It would have been much more productive to have waited and had a tested working product ratherthan hurry up and install and continually find flaws.': True,\n",
       " 'CA Serice Desk:\\r- Built-in Dashboard and basic reporting with preferences to the analysts\\r- Analyst based preferences on list forms and flexibility in exporting\\r- More out of the box features on SLAs and events ratherthan depending on configurations\\rNimsoft\\r-  Flexibility on custom notifications (ex: if we need to send C:\\\\drive notifications to one group and D:\\\\drive notifications to another group, it is very complex to configure)\\r- More out of the box Reports, flexibility in modifying reports and handling maintenance windows\\rBSI:\\r- should have out of the box integrations with CA  key productions like CA Service Desk, Service Operations Insignt and CMDB.': True,\n",
       " 'CA Servcie Operations Insight is good for service modleing but not good for event managemnet system like BPPM, HP BSM etc.': True,\n",
       " 'CA Technologies has continued to improve CA PPM and ensure it remains the best solution in the marketplace. This includes incorporating enhancement requests from customers into the product.': True,\n",
       " 'CA debe realizar seguimiento al uso de los productos y continuamente plantear recomendaciones, con esto, mantener en el d\\x92a a d\\x92a la relaci\\x97n que sustente nuevas oportunidades.': True,\n",
       " 'CA has considerably improved product quality for CCA within last year.': True,\n",
       " 'CA is already addressing this with the more aggressive release cycle.': True,\n",
       " 'CA need to be more agile in there release cycles. Speed to deliver fixes and enhancements is key when a product is not production ready.': True,\n",
       " 'CA should focus on product quality rather than sales. It seems like CA will promise the world and let customer down when it comes to deliver.': True,\n",
       " 'CASOI is not MOM, there are lot of changes needed.': True,\n",
       " 'Capabilities, capabilities, capabilities, support': True,\n",
       " 'Challenging platform at first, but integration seems endless': True,\n",
       " 'Change the calendar in Resource Management to fiscal years;\\rEnable field level security;\\rCreate a solution for managing cost plans and allocation by teams (i.e., Agile)': True,\n",
       " 'Com rela\\x8d\\x8bo ao Clarity, \\x8e necess\\x87rio investir em uma solu\\x8d\\x8bo onde usu\\x87rio possam criar suas vis\\x9bes com baixo grau de investimento de capacita\\x8d\\x8bo.\\rVis\\x9bes de portfolio com mais facilidade de cria\\x8d\\x8bo.': True,\n",
       " 'Come and see what we actually do with Spectrum to understand how we take a square peg and fit it into a round hole.': True,\n",
       " 'Conforme j\\x87 colocado anteriormente, atrav\\x8es de proximidade. O padr\\x8bo de atendimento em n\\x92vel de contas \\x8e excepcional (atrav\\x8es do Mauricio Diehl), em rela\\x8d\\x8bo \\x88 qualidade das solu\\x8d\\x9bes,  implementa\\x8d\\x9bes e n\\x92vel de servi\\x8dos consideramos muito bons, mas uma maior presen\\x8da pode acrescer muito na qualidade.': True,\n",
       " 'Consistent, adaptable and reliable.': True,\n",
       " 'Consolidation of architecture and deeper integrations across products': True,\n",
       " 'Continue and provide bi-weekly meetings to go over issues with the products that are provided by CA.': True,\n",
       " 'Continue strategy innitiated with datacom and ca7 new release methodology': True,\n",
       " 'Continue to invest in product innovations particularly in the Application Delivery space': True,\n",
       " 'Continued near-faultless operation. Consistency of function that builds confidence and trust on reliability and availability.': True,\n",
       " 'Conversar com os especialistas': True,\n",
       " 'Create a more user friendly application interface (BSI).': True,\n",
       " 'Cubriendo los casos donde la solucion aplicaba en un 100%... no existe nada peor que prometer que la solucion aplica a tales casos, y luego descubrir no llega a lo requerido. En mi caso las expectatiovas se cumplieron, pues supe desde antes que casos no contemplar\\x92a la solucui\\x97n y los que prometi\\x97, lo hizo segyn las expectativas.': True,\n",
       " 'DCIM: More seamless integration with monitoring tools\\rService Desk Manager: a robust feature roadmap, regarding a more service-centric approach\\rCMDB: Create different views based on user profile, provide a better integration with tickets and knowledge base\\rSOI: Provide a more seamless integration with CMDB': True,\n",
       " 'Dass in der Regel eine Arbeitsanweisung herauskommt, die fehlerfrei ausf\\x9fhrbar ist.': True,\n",
       " 'Database flexibility': True,\n",
       " 'Deber\\x92an ser productos multi-tenant': True,\n",
       " 'Der Testfokus muss so erweitert werden, dass ein Problem nicht nur an der gemeldeten Stelle gel\\x9ast wird, sondern an allen Stellen im Produkt.': True,\n",
       " 'Des interfaces utilisateurs plus \"user friendly\"': True,\n",
       " 'Die Qualit\\x8at aller eingesetzten CA Mainframe-Produkte ist bereits sehr hoch.': True,\n",
       " \"Difficult to achieve in the lab, but testing systems against a variety of target environments (different operating systems, older versions, etc) is important. Also, testing against 'bad' systems is important (machines without enough disc space or without DNS name resolution) so that the type of failures that happen in the real world can be tested and the product made to fail 'cleanly' if pre-requisites are not met.\": True,\n",
       " 'Discussed and feedback shared in Infosys CA meeting': True,\n",
       " 'Dispor de produtos que sejam mais facilmente customizados': True,\n",
       " \"Don't advertise capabilities that are not there.  When you give a sales pitch to our Senior Management they believe everything they are seeing and expect us to deliver.  Once we see the product we have the technical knowledge to know it is not going to work as advertised which makes our deliverables impossible.\": True,\n",
       " \"Don't just acquire new technology and interfacing them, should strive to integrate them.\": True,\n",
       " \"Don't know\": True,\n",
       " \"Don't oversell your products. If a product can't do something, don't state it can. (even if you bendover backwards to make it somewhat work after the fact)\": True,\n",
       " 'Dont know for the moment.': True,\n",
       " 'Drive towards integration and simplification of the product suite': True,\n",
       " 'Dump Wily and acquire App Dynamics before they go public and make it the next version of Wily so my licenses have some value.': True,\n",
       " 'EEM Security is difficult\\rArchitecture behind WCC causes various issues. Information can be updated in one of the portlets but not in others. Screen refreshes can take up to 90 seconds. \\rWe are using R11.1 SP3 so I know we are due to upgrade but it has been in this state since we moved to this version.': True,\n",
       " 'Earlier release into field testing and use more field testing sites. It keeps people interested as well.': True,\n",
       " 'Easier import of data from for instance excel into Clarity for and end user.': True,\n",
       " 'Easier to navigate less step to execute for end users.': True,\n",
       " 'Easy to implement and support on an ongoing basis.': True,\n",
       " 'Easy to use, very knowledgeable engineering and advisory staff': True,\n",
       " 'Eficiencia en el consumo de recursos': True,\n",
       " 'En el control de incidentes y en la identificacion de las fallas para garanitizar disponiblidad y gestion de algunos proceso de TI': True,\n",
       " 'En el tema de catalogo temas de usabilidad, CEM/SOI realizar estudio de capacidad  acorde al tr\\x87fico de red del cliente.': True,\n",
       " 'En general Introscope sigue cubriendo las espectativas que tenemos en temas de monitorizaci\\x97n, aunque vemos que gradualmente va perdiendo terreno frente a sus competidores directos.': True,\n",
       " 'Enabled generally to acomplish our objectives and in some cases adding value.': True,\n",
       " \"Endevor is a robust industry leading product which we rely on to store, manage and deploy our mainframe application portfolio into outr production PLEX's. It runs without issue for 99.9% of the time.\": True,\n",
       " 'Enfoca**e en las funcionalidades b\\x87sicas que deber\\x92an tener las soluciones para favorecer a la operaci\\x97n, es decir, ponerse en los pantalones de alguien que opera una consola d\\x92a a d\\x92a y bajo esa \\x97ptica, definir estrat\\x8egicamente las mejoras en funcionalidades.': True,\n",
       " 'Estabilidade, melhores integra\\x8d\\x9bes e suporte.': True,\n",
       " 'Everything seems to be covered in the next release and if we go to that release it feels like we stumble on new issues and are acting as a QA team for that version of the product.': True,\n",
       " \"Evolve the product by providing new functionality ahead of it's competition. Ensuring that new release take into account adding ease of maintenance, supportability and reliability in terms of better performance.\": True,\n",
       " 'Excellentes fonctionnalit\\x8es qui nous permet de pratiquement tout automatis\\x8e sur le Mainframe.': True,\n",
       " 'Facil de implementar e de usar. Suporte prestativo e dispon\\x92vel para receber / implementar sugest\\x9bes': True,\n",
       " 'Falta padroniza\\x8d\\x8bo de interface.\\rAs funcionalidades de template de m\\x8etricas poderiam ser melhores.\\rIntegra\\x8d\\x8bo entre produtos da pr\\x97pria CA merecem uma aten\\x8d\\x8bo especial. A CA tem todos os produtos para gerenciamento de Servi\\x8dos, mas suas integra\\x8d\\x9bes ainda s\\x8bo falhas.\\rO CMDB n\\x8bo consegue importar os ICs e suas rela\\x8d\\x9bes das ferramentas de gerenciamento de forma adequada, o que evitaria construir rela\\x8d\\x9bes na m\\x8bo. \\rA integra\\x8d\\x8bo do CEM com o SOI \\x8e prec\\x87ria. N\\x8bo \\x8e poss\\x92vel criar regras para a abertura dos incidentes que considere tempo e transa\\x8d\\x8bo. A regra de incidente \\x8e global, sendo que cada transa\\x8d\\x9bes precisa de regras espec\\x92ficas.': True,\n",
       " 'Feedbacks of the Technical Architects from our organization should be taken around all these products and bring more comprehensiveness to the product': True,\n",
       " 'Fewer bugs. None that bring down the system they are monitoring.': True,\n",
       " 'Flexibility to deploy and delivery at a reasonable cost.': True,\n",
       " 'Fonctionnalit\\x8es et services recherch\\x8es par les clients.': True,\n",
       " 'For the most part it functions as expected': True,\n",
       " 'Functionality was as described tot he best of my knowledge': True,\n",
       " 'Generally, we have very good success with most products installs and maintenance.': True,\n",
       " 'Get your Product Management executive to make rounds with us and assure us about the products and services': True,\n",
       " 'Give  customer chance to better know prouct plans.  Very unclear how CAGen wil work wih Cloud , which seems to be the  future of CA.': True,\n",
       " 'Give customers access to the defect list and release schedule (transparency) like Atlassian does for its products (using Jira).': True,\n",
       " 'Good for application analysis, bredth of objects monitored for java and .NET is good, method of data collection from agents and storage generally reliable with low incidence of missing data or problems with agents or infrastructure supporting APM.  We usually get good support from level 3 technicians though at times it has been a challenge to find them.  User interface is flexible and adequate and useful once understood by technicians using it.': True,\n",
       " 'Good functionality': True,\n",
       " 'Han mejorado los tiempos de procesamiento pero se presentan algunas dificultades que se resuelven en el camino': True,\n",
       " 'Have CAPC display SMNP & Netflow data on a single dashboard, not a separate tab. Product used to do this, now it does not!! Needed for capacity reporting.  We need system to display utilization as a bit rate, not volume. We have a list of issues we have with the new CAPC system.': True,\n",
       " 'Have product developer or highly skill engineers to work with customers and understand the issues that we are facing': True,\n",
       " 'Help customers to find how to use the product for their needs. The docs describe what functions are provided by the product but a cookbook describing how to implement this or that from the user perspective would be helpfull.': True,\n",
       " 'Help us to become more measurably efficient in our own data centre operations': True,\n",
       " \"Help us to find out, where the product can help us. To do that, you have to know our business and processes. Sit down and look, don't just ask questions.\": True,\n",
       " 'Hervorragend': True,\n",
       " 'High Quality': True,\n",
       " 'Highly configurable, provides required functionalities.': True,\n",
       " 'Hoje monitoramos disponibilidade e performance de aproximandamente 8.000 ativos de rede globalmente, as ferramentas da CA nos ajudam a manter este ambiente operando.': True,\n",
       " 'I do not have any.': True,\n",
       " \"I don't have any issue with product quality but would like to offer recommendation such as post-sale - a few calls to customers to check on install and implementation status and offer help in ensuring it is up and running with minimal fuss.\": True,\n",
       " \"I don't have any specifics, just know a long process for each and issues along the way.\": True,\n",
       " 'I don\\'t really know if it is our setup or the product itself that is the problem. But so far, none of the suggested performance improvers have given any result. I am especially concerned about the problem we experience when it comes to high data volumes. Time will tell though, since we are in the middle of an upgrade. I still remain hopeful, but my optimism is slightly fading. \\r\\rRight now we experience issues during the installation on our new servers. We have followed the upgrade steps provided by CA development team, and then the installation guide. There should not be issues this early in the process. CA support\\'s comment is -\"I have never seen a situation like that before\". We can\\'t be that unique?': True,\n",
       " 'I have no specific recommendations at this point.': True,\n",
       " 'I prodotti soddisfano le esigenze di protezione e di affidabilit\\x88 richiesti da TI.': True,\n",
       " 'I see 2 major issues in the fundamentals of NFA:\\r1. the way NFA identifies applications does not work well when application rules with only port range criteria are used.\\r2. the algorithm within NFA for collecting and storing data for the Top Protocols, Top Hosts and Top Conversations can discard indeterministic amount of data for each report. For example, in my past experience, for the flows collected on a particular interface, the volume of traffic reported Top Hosts report gives approximately 60% of the total traffic on the interface, and the Top Conversations report gives approximately 30-40% of the total traffic on the interface.': True,\n",
       " \"I think it's robust and powerful product.  However, given it's complexity it's a challenge to balance the functionality with what an organization can take on.\": True,\n",
       " \"I think the ESP product is a superior product to others I have used.  The support staff is usually right on the ball when I have issues which due to the quality isn't often.\": True,\n",
       " 'I think the direction CA is taking with IM2 will yield the results I am looking for.': True,\n",
       " 'I would divert this discussion to Jim Maracle as he has taken over the direction and engineering of the product earlier this year.': True,\n",
       " 'I would have ranked this a 10 had it not been for the poor release to CAPC we received which caused months of rework.': True,\n",
       " 'I would recommend to focus more on the cloud management / Hybrid IT related to monitoring. Also focus on the emerging trends such as Iot, Mobility etc...': True,\n",
       " \"I've been spending time recently with some of the probes and have found the documentation a bit lacking in detail.\": True,\n",
       " 'Implanta\\x8d\\x8bo do CEM e Service Desk.': True,\n",
       " 'Improve Functionality, better integrations with 3rd party solutions': True,\n",
       " 'Improve QA Testing': True,\n",
       " 'Improve ease of use and effectiveness.  Integrate with and leverage open source tools and frameworks.  Provide more value for the license costs.': True,\n",
       " 'Improve installation and configuration process!': True,\n",
       " 'Improve the portfolio of acquired solutions like Nimsoft etc.': True,\n",
       " 'Improved analysis and testing of custom code.  Improved communications within CA (specifically Engineering and Support).': True,\n",
       " 'Imrpove user interface and WF logic': True,\n",
       " 'In regard to AuthMinder and RiskMinder I think there is still too many incremental releases with terse release notes.': True,\n",
       " 'Increase access to the products.': True,\n",
       " 'Integrate the *minder products and fix the Governanceminder product': True,\n",
       " 'Integration between CA Products\\r508 compliance': True,\n",
       " 'Integration des Kunden in die Qualit\\x8atssicherung': True,\n",
       " 'Integra\\x8d\\x9bes nativas, melhores funcionalidades.': True,\n",
       " 'Interfaces muito limitados': True,\n",
       " 'Introscope e Sp\\x8ectrum en la resolucion de problemas e incidentes para detectar la causa raiz\\rCem para poder analizar y tener clara la experiencia real de los usuarios, lo cual ayuda a determinar si lo que reporta el usuario ante una lentitud en determinada transaccion, realmente es lo que esta viiendo el usuario.': True,\n",
       " 'Introscope is a very strong product and CA has been very helpful with our operations team using it.': True,\n",
       " 'Investindo mais em novas funcionalidades e integra\\x8d\\x9bes entre solu\\x8d\\x9bes e CA e de mercado.': True,\n",
       " 'Invite key customers to product forums wehre you make decisions on functionality': True,\n",
       " 'Issues with integration to Clarity, re-occuring problems, etc.': True,\n",
       " 'It continues to help us in our process development as well as making strategic decisions for our company': True,\n",
       " 'It does exactly what it says on the tin!': True,\n",
       " 'It handles all aspects of PPM': True,\n",
       " 'It has been an excellent application development tool with very good quality and it encreases the productivity of application development.': True,\n",
       " 'It helps me obtain/collect the data requested by company.': True,\n",
       " 'It is best in class imo': True,\n",
       " 'It is highly flexible and reliable. Its stability is excellent and the solution gives us no major problems.': True,\n",
       " 'It is not really a quality (reliability) (defects) but more around breath of solution for us.': True,\n",
       " 'It is our enterprise tool and we now use it in governance.': True,\n",
       " 'It works.': True,\n",
       " \"It's a full ITSM solution with ITIL functionality and does a fantastic job of assisting us with that.\": True,\n",
       " 'Its a great tool, but setup is a little complex.': True,\n",
       " 'Its no so much quality - but the way the products operate from a usage and integration aspect.': True,\n",
       " 'Kindly consider our ideas and enhancement requests seriously.  These are being ignored completely.  \\r\\rImprove the quality of patches and fixes. Lot of Post installation steps while deploying patches (ex: ServiceDesk r12.7 Cum2)..   \\r\\rProduct documentation needs improvement. We need to either contact support or account team to get help in simple configuration or issues. \\r\\rResponse time of CA support can be better.': True,\n",
       " \"Les produits aujourd'hui sont robustes et l'encompagnement propos\\x8es apr\\x8fs vente sur l'utilisatin de ceux-ci (ex MP) semble interessant.\": True,\n",
       " 'Lesson to the customer and find out how customers are using the products': True,\n",
       " 'Level of information provided on the application instrumented.': True,\n",
       " 'Linux/Unix products and agents need to undergo more comprehensive testing before release.': True,\n",
       " 'Lisa should be more user friendly and UI should be better.': True,\n",
       " 'Little required, knowing what is planned in the near future with APM, looks like the slight gaps it has compared to some other products on the market are already being filled': True,\n",
       " 'Log Analyzer - excellent for determining who did what.': True,\n",
       " 'Look at UI design ease of use': True,\n",
       " 'Look at our problems list over the years. ask what we really want not what your marketing guys think we want for example:\\r - data mine the repositories\\r - report with detail granularity and statistics; simple example frequent counts and amounts for top-10 over time with out summarization\\r - Partner with SAS Institute for business analytics': True,\n",
       " \"Look at real world enterprise use cases where these products are integrated with other systems, find out the challenges from customers.  Don't consider the products will work in a silo.\": True,\n",
       " 'Low occurrence of issues/bugs': True,\n",
       " 'Mainframe DB2 related products.  DB2 and IMS utility and monitoring products.': True,\n",
       " 'Maintenance cycles in larger mainframe shops are multi-month efforts.  When issues in products are identified the risk associated with rushing them to production systems adds risk.  Every effort needs to be taken to ensure solid maitenance or version releases of the products are provded.  The ability to totally eliminate defects in code will not occur.  This is where options to correct or mitigate defects in a rapid and minimal risk approach is desired.': True,\n",
       " 'Make it as stable as CA-7': True,\n",
       " 'Make it easier to implement and easier to support.  Need to also grow in the area of integration features with non-CA technologies.': True,\n",
       " 'Make sure integration is solid.': True,\n",
       " 'Make sure you have all the plugins built for a customer, like the IIB plugin for WebSphere stack.': True,\n",
       " 'Make the User interface more adaptable, aesthetic etc.': True,\n",
       " 'Make the product easier to understand and use.': True,\n",
       " 'Make the product more robust and sophisticate and be able to handle intricate issues.': True,\n",
       " 'Make the products fit better with each other. Make it easier to customize user interfaces dependent on the products in the portfolio.': True,\n",
       " 'Make your products easier to maintain.  I was also bring support back to the US to help improve quality.': True,\n",
       " 'Meine Erwartungen wurden durch das Produkt \\x9fbertroffen.': True,\n",
       " 'Mejorar su soluci\\x97n Netflow': True,\n",
       " 'Melhorar a qualidade dos recursos t\\x8ecnicos do time de servi\\x8dos.': True,\n",
       " 'Migrationspfade der Produkte von einem Releasestand zum N\\x8achsten sind nicht ausgereift und schlecht beschrieben. H\\x8aufig funktionieren Sie nicht mit live Systemen, die mit Daten bef\\x9fllt sind. Inkonsistenzen in z. B. Policystores m\\x9fssen selbst\\x8andig erkannt und reportet werden. Noch besser w\\x8are eine Selbstheilungsfunktion. Hochlastverhalten muss in die Qualit\\x8atspr\\x9ffung mit aufgenommen werden.\\r\\rCookie Hijacking ist eine Sicherheitsl\\x9fcke von SiteMinder speziell in gro\\xa7en SSO-Domains. F\\x9fr dieses Probelm wird dringend eine L\\x9asung ben\\x9atigt.': True,\n",
       " \"Mimic Amazon or Google you have the potential to do what they do and more - yet you still function like IBM at its worst.\\rWhy not hire a few key visonaries from them and reinvent yourselves.\\r\\rJames Harvey is the best step you've taken in years. Not sure he'll get Wily back into a contender / space leader, but you dont have anyone like him across the other products. The rest of them are weak and don't have strong talent under them with vision, product direction, much less making us feel they will deliver anything useful. Understanding our challenges, eespecially enterprise companies on scale and risk, eliminating weak roadmaps, geting true innovation, and delivery timelines that are rapid and in keeping with the Amazon's of the world. They release how many small releases a day without problem - CA is at the other end of that spectrum.\": True,\n",
       " 'Modernise it': True,\n",
       " 'Monitoreo oportuno de la infraestructura y servicios TI': True,\n",
       " 'More competitive and comparable to TFS, SVN, and other configuration management tools on the market. \\rthere is a lot of pressure to go to OpenSource tools or to TFS. we have a large Microsoft development contingent and they want TFS.': True,\n",
       " 'More development of procucts that are purchased and tighter integration between products.': True,\n",
       " 'More flexibility on configuration of the system.': True,\n",
       " 'More flexible GUIs': True,\n",
       " 'More of an understanding of how the software behaves in large installations like ours - this is not always understood by CA, particularly with issues and challenges such as excessive resource use and (lack of) compatability with other vendor software.': True,\n",
       " 'More robust in-house testing.': True,\n",
       " 'More support to resolve issues and quicker response.': True,\n",
       " 'More testing, prior to release, across various configurations covering functionality, upgradability and performance.': True,\n",
       " 'Move what is being done in the field by PS into the product.': True,\n",
       " 'Muy ampliamente': True,\n",
       " 'My teams tell me the products work well and run well with very minimal or no issues.': True,\n",
       " 'Na experi\\x90ncia que tenho com o CA Capacity Manager, recomendo:\\r\\r1) Centralizar a solu\\x8d\\x8bo em uma vers\\x8bo Web. \\r\\rA ferramenta CA Capacity Manager, \\x8e muito modularizada, e ainda possui boa parte em vers\\x9bes cliente servidor e n\\x8bo web, isso dificulta o uso de todo potencial da ferramenta, pois imp\\x9be algumas dificuldades de uso da interface. \\rOs Bugs da ferramenta demoram muito a serem solucionados, tenho caso de itens com mais de 6 meses de dura\\x8d\\x8bo.': True,\n",
       " 'Na preven\\x8d\\x8bo e controle de desempenho e capacidade de HW e seus processos.': True,\n",
       " 'Need to be more transparent about product roadmap / and timelines - e.g.\\r- changes to PBM strategy at last minute was a waste of time for us and caused much unease within our team.': True,\n",
       " 'Need to get leaner and more agile \\x88 la Service Now': True,\n",
       " 'Need to improve the quality and usability of products and also to introduce new features.\\rShould be easy to upgrade, we are struggling to upgrade 7.0.3 to 7.5.2 version due to some compatibility issues of pathfinder.': True,\n",
       " 'Nimsoft solutions are easier to implement and more adapatable': True,\n",
       " 'No se ha podido implementar IT Client Manager debido a costos de implemantaci\\x97n, por lo cual no se ha cumplido ninguna expectativa.': True,\n",
       " 'No specific comments at present': True,\n",
       " 'None': True,\n",
       " 'None at this time.': True,\n",
       " \"Not all solutions are delivered 'bullet proof' out of the box and this is expected with the differences from customer to customer.\": True,\n",
       " 'Not sure': True,\n",
       " 'Nothing specific.  Just that we depend on CA for core/key technologies that run our business. Continue to focus on quality and innovation.': True,\n",
       " 'Nothing specific. Getting as many users involved in testing the beta version would be a good way to improve quality and CA team has already been doing that.': True,\n",
       " 'N\\x8bo temos ainda tanto conhecimento na solu\\x8d\\x8bo Nimsoft, pois ainda \\x8e muito recente na compania. Por\\x8em, vemos a mesma situa\\x8d\\x8bo no suporte da CA. Talvez treinar o time de suporte para transform\\x87-los em especialistas na solu\\x8d\\x8bo traria muitos benef\\x92cios para seus clientes, al\\x8em de proativamente trazer novidades e novas maneiras de melhor utilizar a ferramenta.': True,\n",
       " 'Os feedbacks foram direcionado ao account manager': True,\n",
       " 'Os produtos deveriam ter uma integra\\x8d\\x8bo melhor elaborada, possuir uma mesma identidade visual e utilizarem uma mesma plataforma, ou pelo menos similar.': True,\n",
       " 'Outstanding market leading products': True,\n",
       " \"PDSMAN is a solid/stable product with very few issues over the years we have been running it.\\r\\rWe probably do not use it to it's full potential which is where pointers to 'best practice' would be a useful.\": True,\n",
       " 'PPM implementation within Capgemini': True,\n",
       " 'PTF_______________________': True,\n",
       " 'Peformance needs to be paramount. Older toolsets and techniques can be exposed when the new mantra is loads of information quickly.': True,\n",
       " 'Perfectly maps to the problem areas I am trying to solve for Boeing': True,\n",
       " 'Perform a complete re-write of both applications.  For over 4 years, we have bee asking for basic Windows functionality within Service Desk of Right-click copy/paste.  This has yet to be put into any product.  Why ask your customers for their \"ideas\" if none of the \"ideas\" are going to be implemented?!?': True,\n",
       " 'Performance, ease of use and look and feel.': True,\n",
       " 'Perhaps focus groups from a selction of customers.  Customers priorities are ever changing and you need that feedback, particulalry since the model has changed over the years.  Its no longer a market where you can buy and integarte best of breed.  Customers are shifting to the cloud and managed services': True,\n",
       " 'Pro-active customer focus as was experienced 2010 - 2012  as well as updated and better documentation in certain cases': True,\n",
       " 'Proactively introduce better/best practice from other clients': True,\n",
       " 'Probably flexibility to make needed changes to the tool to integrate with other toolsets.': True,\n",
       " 'Problem resolution \\rPerformance': True,\n",
       " 'Product documentation can be improved. \\rThis will help to shorten implementation cycle.': True,\n",
       " 'Product functions operate as expected, and therefore, do not require extensive technical support.': True,\n",
       " 'Product patches are still somewhat cumbersome and require significant time investment to apply (especially cumulative patches). Automated ways of applying the patches would be better.  For post steps and optional items, a checkbox to apply the specific fix would be much preferred than the current manual process.': True,\n",
       " 'Product quality helps us deliver on service levels.  Product quality is essential to stability and availability.': True,\n",
       " 'Products are delivered to us with bugs, incomplete functionality. When we request changes, which had been alluded to, a workaround is often provided, but that workaround is not supported and is often not included in subsequent releases of the product, meaning we need to ensure we can support the product as well as the workaround.': True,\n",
       " 'Products run fine without too many issues.': True,\n",
       " 'Products seem bloated and slow.': True,\n",
       " 'Produt should be stable, bug free and work accurately. Also there should be timely resolution to the issus reported.': True,\n",
       " 'Provide Self-service way to determine if a bug is already documented at CA.  Right now we have to experience the bug, log a ticket, have a support rep research it and tell us if there is already something on file.': True,\n",
       " 'Provide additional cross functional capabilities to reduce our requirement to have multiple subject matter experts in support of CA products.': True,\n",
       " 'Provide an IAM solution that supports all products that you sell.': True,\n",
       " 'Provide strategy on these Network analyzers': True,\n",
       " 'Provided stability and scalability meeting our growth demands': True,\n",
       " 'Provided us with more in-depth capacity related information': True,\n",
       " 'Providing Best prtatices from an industry standpoint would be a start': True,\n",
       " 'Pursue the best in class companies for each.': True,\n",
       " \"QA !! Poor to no testing of existing or new functions. \\rPerception is that customer is providing QA support.   \\r\\rBe competitive in the market with similar solutions\\rAbility to integrate easily  within CA's own products, it does not appear to be a portfolio or a solution but different products pieced together with the exception of IM which has potential, however product is still inmature. \\r\\rSpectrum is extremely robust and full of functions and capabilities, previously thought to be in sustaining mode, revived recently with interesting roadmap to continue with product.  Good new is revived, mixed messages to existing customers, perception of vendor not being certain of strategy\": True,\n",
       " 'Quality has seemed to improve over the past year with less required updates and fewer problems with the upgrades, this direction needs to continue.': True,\n",
       " 'Quality seems fine.  There are bugs and issues here and there but generally they get addressed fairly quickly': True,\n",
       " 'Quicker releases.\\rMove from a GUI install from a DVD image and focus on application packaging eg RPM to make upgrades and updates easier.\\rLook at providing an easily ability to package custom SNMP traps/models.': True,\n",
       " 'RCA spectrum Wly excelente\\rUSM  bien': True,\n",
       " 'Rapid response to software problems, genuine concern for operability of products.': True,\n",
       " 'Rarely have down time': True,\n",
       " 'Really created a new monitoring enviornment that no other organization has melded all the tools into one platform': True,\n",
       " 'Recomendaria uma avalia\\x8d\\x8bo para diminuir a quantidade de patches que s\\x8bo gerados para os produtos e uma avalia\\x8d\\x8bo na forma de customiza\\x8d\\x8bo dos produtos. Alguns produtos n\\x8bo s\\x8bo facilmente modificados, \\x8e preciso um conhecimento t\\x8ecnico especializado no produto para se fazer novas customiza\\x8d\\x9bes.': True,\n",
       " 'Reconsidering the IM 2.0 roadmap was appropriate.  Build on quality solutions such as Nimsoft.   Continue on roadmap plans for Wily.': True,\n",
       " 'Reduce the complexity to install/administer and improve the product documentation': True,\n",
       " 'Reduction on defects': True,\n",
       " 'Reduzir a complexidade no uso e manuten\\x8d\\x8bo das ferramentas. Os resultados obtidos s\\x8bo excelentes, por\\x8em n\\x8bo possuem uma implementa\\x8d\\x8bo facilitada e n\\x92vel de manuten\\x8d\\x8bo baixo.': True,\n",
       " 'Reliability': True,\n",
       " 'Reliability.': True,\n",
       " 'Saas uptime availability and Single Sign on fedration not as well implemented as other Saas vendors': True,\n",
       " 'Se requiere mas informacion del producto a las areas de desarrollo y soporte tecnico.': True,\n",
       " 'See my comments under \"what CA can do to make me recommend CA products\".': True,\n",
       " 'Sehr zeitaufw\\x8andige Prozesse bei der Fehlerbehebung des Xenos-Transformers': True,\n",
       " 'Service Virtualization\\rApplication Release Automation': True,\n",
       " 'Simplification of use coupled with reliability': True,\n",
       " 'Simplify implementation overhead': True,\n",
       " 'Softwareentwicklungsprozess \\x9fberarbeiten, mehr Investitionen in bestehende Produkte, Produktintegration und Usability verbessern': True,\n",
       " 'Solution delivery - best practices advises, steady state procedures / processes.': True,\n",
       " 'Some issues take longer than they should to resolve.': True,\n",
       " 'Some of the premium adaptors for CA PAM had some issues.    Need to provide higher QA and value for cost for the premium adaptors.': True,\n",
       " 'Stability': True,\n",
       " 'Stability and consistency.': True,\n",
       " 'Stability and support': True,\n",
       " 'Stability is remarkable.': True,\n",
       " 'Stable with no major issues, Minimal Downtime.': True,\n",
       " 'Start over on VAIM. there are just too many issues.': True,\n",
       " \"Stay ahead of the software development teams.  We're advancing faster than CA has responded in the APM space, with more browser side processing and more apps in AWS than even 1 year ago.  We don't need to know a solution is coming associated with those technology changes, we need the solution to be available when we're first considering making those changes.\": True,\n",
       " 'Stay in contact with the customers and increase the custoner benefit when they are doing ESP testing': True,\n",
       " 'Support structure needs to be tight.  For example Layer 7 support seems to have taken a step down since being aquired by CA': True,\n",
       " 'Taking client feedback to sw development and ensure bugs get fixed.': True,\n",
       " 'Test in complex environments like the customer has! Not pristine, simple labs.': True,\n",
       " 'Test the product with key users that can represent the various client situations.  Let them have it for free - you will gain more in future goodwill, than the cost of a software sale.  Get your Product Developers out to talk to real users.  Understand in boring, excruciating detail how they get used.  Then test, test and test.  \\r\\rWhen you get in front of customers - have everything ready to show us you have implemented with success.  Documents, plans, manuals, procedure guides, scripts, tools to migrate from legacy software, etc.': True,\n",
       " 'Test the product, ensure the OOTB functionality works.': True,\n",
       " 'Test your installation process in multiple flavors of environments.  Streamline the installation / hotfix process to check for required patches, other hot fixes, other pre-requisites.': True,\n",
       " 'The CA products deliver real value to our business but it is the contract that we jointly established a couple of years ago that provides the bank with flexibility of product choice as our business changes to meet customer demands and direction.': True,\n",
       " 'The biggest complaint is we cannot encourage UC4 based clients to migrate to CA Workload Automation due to the use of vendor based UC4 scripting language.': True,\n",
       " 'The idea that every customer is different is cop out response.  Fundamental functions are the same across IT organizations.  Monitor stuff, create incidents, manage changes, request services and report on all of it.  Out of the box total solutions should include pre-build PAM work flows.  Best practices on how to automate data loads, updates and reports.  A complete function solution should be presented and then explain to customers where modifications/customization can be made and what the impact will be.  But an explanation of why these are best practices and how they are proven should be the starting point not an after thought.': True,\n",
       " 'The initial test install of CA Performance Manager has gone quite well and we are impressed with the ease of use.': True,\n",
       " 'The noise level is quiet as stated above.': True,\n",
       " 'The problems we faced seems very basic demands so I recommend CA to work closely with customer requirements & as solution provider rathar than just a product provider': True,\n",
       " 'The product Functionality has provided benefit to my customers through faster development of applications': True,\n",
       " 'The product quality is very good, it is the pricing that is inflated': True,\n",
       " 'The products have been more stable with current releases than in past.': True,\n",
       " 'The tools are not easily understood or configured.  While my team has gone through training on it, it is not something that they have readily adapted to and brought into their daily operations.  From an alert acknowledgement perspective, it seems to confuse team members more that easy the management of alerting and issue documentation.': True,\n",
       " 'The upgrade to Nolio 5.0.1 from 4.7.x was a huge change especially in the ROC yet there was no documentation to adequately support  the change.': True,\n",
       " 'The way they are integrated to work together': True,\n",
       " \"There should be rock-solid documentation when implementing a product on common platform and using OOTB processes.  There were several cases when the documentation sent us in the wrong direction.\\r\\rAccurate documentation is my number 1 concern.  I have no doubt about the quality of the tool, that's why I chose to expand with it.  However, the rest of Ecolab is currently questioning my judgement.\": True,\n",
       " \"These are very complex products requiring deep knowledge.  I don't know that we have been good at adopting the more modern management environment and if that would help.  We still run many things as inherited from EDS / HP/\": True,\n",
       " 'They all serve the purpose they are expected to': True,\n",
       " 'They are implemented and seem stable.': True,\n",
       " 'They should have more & more product on SaaS model with lower prices': True,\n",
       " 'They should not rename them arbitarility to generic terms rather than recognised product names.\\r\\rEnage customers more in development process (more than the end-of-sprint demos do today)': True,\n",
       " 'This comment is related to what has been relayed to me by my technical implementation resources.  On virtually every Identity Management product set the feedback is product documentation is significantly lacking.  I have heard this comment made by multiple people on IdentityMinder, ControlMinder, GovernanceMinder and AuthMinder.  For the most part I believe people are happy with product function, but the complexity and lack of straightforward documentation around the product set hinders the market perception around the ease of use of the product.': True,\n",
       " 'Thoroughness of fixes that they not only correct report issue but stop the creation on new issues cause its be implemented.  Once again, Action is better than Reaction.': True,\n",
       " 'Tight integration across solutions give me the ability to take actions at a single level and trust that the propagation across solutions is seamless.': True,\n",
       " 'Todos os produtos que listei trouxeram ganhos diretos em produtividade e qualidade \\x88s equipes de suporte da empresa.': True,\n",
       " 'Too early to say.': True,\n",
       " 'Top Secret is a well-known security product and is constantly evolving to secure our continually evolving environment.': True,\n",
       " 'Top performing tools': True,\n",
       " 'Trabalhar diretamente com os clientes no pre e no pos venda. Dar maior apoio e suporte tecnico nos projetos.': True,\n",
       " 'Update the documentation with complete set of examples rather than keep chunks of vague, detail-less sections that force us to look at hiring a consultant for a simple request.  \\r\\rPUBLISH the schedule for updates/fixes/releases AND reasons for slipping if any.  \\r\\rI understand there is a place for me to send in suggestions but I have not been able to find or use it.  I have no confidence that anything will be reviewed or considered either as when I have spoken to developers (yes, some issues have gone that far), I get the clear sense that they develop in \"vacuums\" and are not listening to the real issues or many of hte Global Delivery add-ons would become standards.  The WWSI module/functionality SHOULD NOT BE ADDITIONAL as that funcatonality is CORE to IIS.': True,\n",
       " \"Updated UI's, better integrations\": True,\n",
       " 'User friendly and ease of functionality.': True,\n",
       " 'Vollst\\x8andige Fehlermeldungen und Hinweise\\rDeploymentverfahren\\rVereinfachung von Funktionialit\\x8at (Parametrierbarkeit)\\rEigene Validierungs-Werkzeuge (Vollst\\x8andigkeit Installation, Lauff\\x8ahigkeit Installation)': True,\n",
       " 'We are running an older version of Clarity, so I expect any recommendations I would have are already addressed in V 13.': True,\n",
       " \"We don't have it yet - so a bit premature to say. :)\": True,\n",
       " 'We have had some issues with bad interactions between CA products and other vendor products.': True,\n",
       " 'We need these to products to be run out of the cloud and not on prem.': True,\n",
       " 'We opened up a number of bug reports regarding this product.  We like what this product does, but it is buggy.': True,\n",
       " \"We've been lagging on moving to Performance Manager but because of that we still need strong support of the currently used eHealth.\": True,\n",
       " 'When purchasing a product, work on gettting them to integrate more seemlessly.  People get to know the CA name and expect integration to be there, and we all have learned it is not.': True,\n",
       " 'When support is available, it is some of the best.': True,\n",
       " 'When upgrading the RA POC, there were bugs that caused problems with the processes.  Also, the upgrade required refactoring existing processes.  I understand that the product made a decent leap forward with that version upgrade, however, it becomes a scary proposition if there are a lot of existing processes.  Perhaps a way to \"upgrade\" processes would be nice.': True,\n",
       " 'Wonderful products with ease to use & highly customizable': True,\n",
       " 'Work on improving the release stability/quality of your APM products across all supported operating systems and keep your code base up to date across all APM offerings (ie, power packs) in order to better leverage the \"new\" functionality that is being sold to us a value add.  I can\\'t keep upgrading every quarter to fix the previous release\\'s issues, to appease CA Support (first response is always to upgrade to latest version) and I am unable to efficiently leverage enhancements when the add-ons I have in place show no signs of being updated to accommodate the newer release levels.': True,\n",
       " 'Works very well and as expected.': True,\n",
       " '_________': True,\n",
       " '____________': True,\n",
       " '______________________________________________________': True,\n",
       " '_________web________': True,\n",
       " 'affidabilit\\x88': True,\n",
       " 'agent management needs vast inprovement.\\rremote management and configuration is a must\\rNeed more automation around property files and config\\rWebviews need more capability\\rGUI based management of the suite is needed (again to many config files)\\rdocumentation is getting better but needs to be more descript.': True,\n",
       " 'all that I can think of': True,\n",
       " \"better testing, don't over sell what products can support\": True,\n",
       " 'better training and courses for technical users, rather than pushing professional services.': True,\n",
       " 'certify all the pheripherals end point products like therometer sensors, iPDU, etc.\\rso that Proof of concept is not necessary.': True,\n",
       " 'completeness of product. Integration of solutions': True,\n",
       " 'deliver cheap low functionality tools to.': True,\n",
       " 'delivers the promised capability': True,\n",
       " \"don't know\": True,\n",
       " 'eHealth': True,\n",
       " 'ease of deploying products to production': True,\n",
       " 'ease of usage.': True,\n",
       " 'ease of use': True,\n",
       " 'ensure new features are thoroughly tested': True,\n",
       " 'es entspricht immer noch gut den Erwartungen.': True,\n",
       " 'este produto \\x8e muito aderente as necessidades da empresa e quando h\\x87 necessidade de adapta\\x8d\\x9bes s\\x8bo f\\x87ceis.': True,\n",
       " 'evoluzione strategica dei prodotti secondo una linea chiara': True,\n",
       " 'excellent coverage.': True,\n",
       " 'feature set': True,\n",
       " 'fix the Linux installer when implementing autosys 11.3.6 db on oracle rac.  We had to install this the \"hard way\" by creating a db first, creating a response file for the autosys components and install it, then running the createaedb.pl script to create DB objects.  For a new product (compared to R11) it should have been easier to install than the previous version not harder.': True,\n",
       " 'get the customer requirement, ensure the tool can delivery those, dont seel something that cant deliver or make promises to modify it you cant.': True,\n",
       " 'give me a rep that will stick around long enough to learn my business, my IT staff and their needs, challenges, and goals.': True,\n",
       " 'good quality': True,\n",
       " 'good tools but it requires an experienced hand to manage the management tools.': True,\n",
       " 'helping to move testing in development Left....': True,\n",
       " 'improve testing': True,\n",
       " 'improve the testing and quality of the releases..': True,\n",
       " 'increase from comodity to more business centric CIO desired toolset': True,\n",
       " 'las cumple sin mas': True,\n",
       " 'local and technical support': True,\n",
       " 'make sure the fix are better tested before release': True,\n",
       " 'melhor visibiliade dos produtos e suas evolu\\x8d\\x9bes': True,\n",
       " 'modern UI.': True,\n",
       " 'more thorough testing, documentation and training of support resources on the installation procedures.': True,\n",
       " 'more uk/european support staff. Seem to rely too much on the US for support. (Time difference, means delays)': True,\n",
       " 'muy bien': True,\n",
       " 'n/a at this point more input for the future due to my role': True,\n",
       " 'no comment': True,\n",
       " 'no specific suggestions': True,\n",
       " 'nothing comes to mind.': True,\n",
       " 'nothing much, need to bring all the Datacenter monitoring products under one umbrella': True,\n",
       " 'ok': True,\n",
       " \"prendre en compte mes cas d'utilisation (nombre d'utilisateurs pour les performances) et cas d'utilisation d'OWB\": True,\n",
       " 'produtos est\\x87veis e confi\\x87veis e com excelentes funcionalidades': True,\n",
       " 'provided cloud management capabilites': True,\n",
       " 'quality improved vastly in the 14 years I have worked with Siteminder, but there is still room for improvement': True,\n",
       " 'reducir complejidad': True,\n",
       " 'requirements management optimieren': True,\n",
       " 'richer basic functionality set; less reliance on PAM.': True,\n",
       " 'see previous comments': True,\n",
       " 'simpify component architecture, remove external dependency and make the product more agile and light weight': True,\n",
       " 'take more user feedback.': True,\n",
       " 'test test test and then test some more.  The integration of all products into an enterprise solution needs to work right the first time.  So you need to be able to test all the products that work together in your development and QA environment.  Do not accept product releases that you know will not work well in the marketplace': True,\n",
       " 'they have tended to be stable and performed to expectations': True,\n",
       " 'too late!': True,\n",
       " 'too many unbundled apars/fixes': True,\n",
       " 'tornar as interfaces mais amig\\x87veis e intuitivas; serem mais r\\x87pidos na resolu\\x8d\\x8bo de problemas;': True,\n",
       " 'voll und ganz': True,\n",
       " 'yes it meets our expectation. We still need some enhancements in these products. Nimsoft to SOI out of box connector and stable fault correlation in nimsoft and performance improvements in snmp collector probe.': True}"
      ]
     },
     "execution_count": 29,
     "metadata": {},
     "output_type": "execute_result"
    }
   ],
   "source": [
    "word_feats(test2)"
   ]
  },
  {
   "cell_type": "code",
   "execution_count": 45,
   "metadata": {
    "collapsed": false
   },
   "outputs": [
    {
     "name": "stderr",
     "output_type": "stream",
     "text": [
      "/Users/shani16/anaconda/lib/python2.7/site-packages/ipykernel/__main__.py:8: SettingWithCopyWarning: \n",
      "A value is trying to be set on a copy of a slice from a DataFrame.\n",
      "Try using .loc[row_indexer,col_indexer] = value instead\n",
      "\n",
      "See the caveats in the documentation: http://pandas.pydata.org/pandas-docs/stable/indexing.html#indexing-view-versus-copy\n",
      "/Users/shani16/anaconda/lib/python2.7/site-packages/ipykernel/__main__.py:9: SettingWithCopyWarning: \n",
      "A value is trying to be set on a copy of a slice from a DataFrame.\n",
      "Try using .loc[row_indexer,col_indexer] = value instead\n",
      "\n",
      "See the caveats in the documentation: http://pandas.pydata.org/pandas-docs/stable/indexing.html#indexing-view-versus-copy\n"
     ]
    }
   ],
   "source": [
    "import nltk.classify.util\n",
    "from nltk.classify import NaiveBayesClassifier\n",
    "# from nltk.corpus import movie_reviews\n",
    " \n",
    "def word_feats(words):\n",
    "    return dict([(word, True) for word in words])\n",
    " \n",
    "neg= test1['sent']='Negative'\n",
    "pos= test1['sent']='Positive'\n",
    " \n",
    "# negfeats = [(word_feats(movie_reviews.words(fileids=[f])), 'neg') for f in neg]\n",
    "# posfeats = [(word_feats(movie_reviews.words(fileids=[f])), 'pos') for f in pos]\n",
    " \n",
    "# negcutoff = len(negfeats)*3/4\n",
    "# poscutoff = len(posfeats)*3/4\n",
    " \n",
    "# trainfeats = negfeats[:negcutoff] + posfeats[:poscutoff]\n",
    "# testfeats = negfeats[negcutoff:] + posfeats[poscutoff:]\n",
    "# print 'train on %d instances, test on %d instances' % (len(trainfeats), len(testfeats))\n",
    " \n",
    "# classifier = NaiveBayesClassifier.train(trainfeats)\n",
    "# print 'accuracy:', nltk.classify.util.accuracy(classifier, testfeats)"
   ]
  },
  {
   "cell_type": "code",
   "execution_count": 46,
   "metadata": {
    "collapsed": false
   },
   "outputs": [
    {
     "data": {
      "text/plain": [
       "'Negative'"
      ]
     },
     "execution_count": 46,
     "metadata": {},
     "output_type": "execute_result"
    }
   ],
   "source": [
    "neg"
   ]
  },
  {
   "cell_type": "code",
   "execution_count": null,
   "metadata": {
    "collapsed": true
   },
   "outputs": [],
   "source": []
  }
 ],
 "metadata": {
  "kernelspec": {
   "display_name": "Python 2",
   "language": "python",
   "name": "python2"
  },
  "language_info": {
   "codemirror_mode": {
    "name": "ipython",
    "version": 2
   },
   "file_extension": ".py",
   "mimetype": "text/x-python",
   "name": "python",
   "nbconvert_exporter": "python",
   "pygments_lexer": "ipython2",
   "version": "2.7.11"
  }
 },
 "nbformat": 4,
 "nbformat_minor": 0
}
