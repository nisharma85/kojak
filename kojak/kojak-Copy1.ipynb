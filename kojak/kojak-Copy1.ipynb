{
 "cells": [
  {
   "cell_type": "code",
   "execution_count": 1,
   "metadata": {
    "collapsed": true
   },
   "outputs": [],
   "source": [
    "import nltk\n",
    "import pandas as pd\n",
    "from textblob import TextBlob\n",
    "import logging\n",
    "from gensim import corpora, models, similarities\n",
    "from pprint import pprint\n",
    "from sklearn.feature_extraction.text import CountVectorizer\n",
    "import numpy as np\n",
    "import pandas as pd\n",
    "from nltk.tokenize import sent_tokenize, word_tokenize\n",
    "import re\n",
    "import os\n",
    "import codecs\n",
    "from sklearn import feature_extraction\n",
    "import matplotlib.pyplot as plt\n",
    "from sklearn.cross_validation import train_test_split\n",
    "from sklearn.neighbors import KNeighborsClassifier\n",
    "from sklearn.neighbors import KNeighborsRegressor\n",
    "from sklearn.linear_model import LogisticRegression\n",
    "from sklearn import preprocessing\n",
    "from sklearn.learning_curve import learning_curve\n",
    "from sklearn.svm import SVC\n",
    "from sklearn.tree import DecisionTreeClassifier\n",
    "from sklearn.tree import DecisionTreeRegressor\n",
    "from sklearn.ensemble import RandomForestClassifier\n",
    "from sklearn.ensemble import RandomForestRegressor\n",
    "from sklearn.ensemble import ExtraTreesClassifier\n",
    "from sklearn.ensemble import ExtraTreesRegressor\n",
    "from sklearn.naive_bayes import GaussianNB\n",
    "from sklearn.cross_validation import cross_val_score\n",
    "from sklearn.metrics import precision_score\n",
    "from sklearn.metrics import recall_score\n",
    "from sklearn.metrics import f1_score,  roc_curve\n",
    "from sklearn.metrics import accuracy_score\n",
    "from sklearn.metrics import mean_squared_error\n",
    "from sklearn.tree import export_graphviz\n",
    "from sklearn import svm, grid_search\n",
    "from sklearn import tree\n",
    "from sklearn.preprocessing import FunctionTransformer\n",
    "import sklearn\n",
    "import mpld3\n",
    "import lda\n",
    "import matplotlib.pyplot as plt\n",
    "%matplotlib inline"
   ]
  },
  {
   "cell_type": "code",
   "execution_count": 2,
   "metadata": {
    "collapsed": true
   },
   "outputs": [],
   "source": [
    "# import sys\n",
    "# reload(sys)  \n",
    "# sys.setdefaultencoding('Cp1252')"
   ]
  },
  {
   "cell_type": "code",
   "execution_count": 3,
   "metadata": {
    "collapsed": false
   },
   "outputs": [],
   "source": [
    "bl=pd.read_csv('data/bl.csv', na_values='DK', encoding='latin-1')\n",
    "fy15q3= pd.read_csv('data/fy15q3.csv', na_values='DK', encoding='latin-1')\n",
    "fy16= pd.read_csv('data/fy16.csv', na_values='DK', encoding='latin-1')"
   ]
  },
  {
   "cell_type": "code",
   "execution_count": 4,
   "metadata": {
    "collapsed": false
   },
   "outputs": [
    {
     "data": {
      "text/plain": [
       "3068"
      ]
     },
     "execution_count": 4,
     "metadata": {},
     "output_type": "execute_result"
    }
   ],
   "source": [
    "len(fy16)"
   ]
  },
  {
   "cell_type": "markdown",
   "metadata": {},
   "source": [
    "### Data Cleaning"
   ]
  },
  {
   "cell_type": "code",
   "execution_count": 5,
   "metadata": {
    "collapsed": false
   },
   "outputs": [],
   "source": [
    "fy16['geo']=fy16['geo'].fillna('NaM')\n",
    "fy15q3['Geo']=fy15q3['Geo'].fillna('NaM')\n",
    "bl['Region : Region (Global Area)']=bl['Region : Region (Global Area)'].fillna('NaM')"
   ]
  },
  {
   "cell_type": "code",
   "execution_count": 6,
   "metadata": {
    "collapsed": false
   },
   "outputs": [],
   "source": [
    "fy16.loc[fy16['translation.to.english.for..ltr.comment'].isnull(),\n",
    "       'comment'] = fy16['ltr.comment']\n",
    "\n",
    "fy15q3.loc[fy15q3['translation_to_1_q_ca_ltrfollowup_reporting_comment'].isnull(),\n",
    "       'comment'] = fy15q3['LTR Comment']\n"
   ]
  },
  {
   "cell_type": "code",
   "execution_count": 7,
   "metadata": {
    "collapsed": false
   },
   "outputs": [],
   "source": [
    "fy16_1=fy16[[ 'email', 'geo','segment', 'role2', 'ltr','acct.mgt',\n",
    "      'license.contract', 'best.practice', 'implement', 'product.qual', 'functionality', 'ease.of.use', \n",
    "      'tech.support','fiscalyear', 'quarter', 'ltr.comment','ltr_comment_theme1', 'ltr_comment_theme2',\n",
    "      'ltr_comment_theme3']]"
   ]
  },
  {
   "cell_type": "code",
   "execution_count": 8,
   "metadata": {
    "collapsed": false
   },
   "outputs": [
    {
     "name": "stderr",
     "output_type": "stream",
     "text": [
      "/Users/shani16/anaconda/lib/python2.7/site-packages/ipykernel/__main__.py:1: SettingWithCopyWarning: \n",
      "A value is trying to be set on a copy of a slice from a DataFrame\n",
      "\n",
      "See the caveats in the documentation: http://pandas.pydata.org/pandas-docs/stable/indexing.html#indexing-view-versus-copy\n",
      "  if __name__ == '__main__':\n"
     ]
    }
   ],
   "source": [
    "fy15q3['responsedate'][1061:1064]='NaN'\n",
    "fy15q3['responsedate']=pd.to_datetime(pd.Series(fy15q3['responsedate']), format=\"%m/%d/%y %H:%M\")\n"
   ]
  },
  {
   "cell_type": "code",
   "execution_count": 9,
   "metadata": {
    "collapsed": false
   },
   "outputs": [],
   "source": [
    "fy15q3['responseyr'], fy15q3['rmth'] = fy15q3['responsedate'].dt.year, fy15q3['responsedate'].dt.month"
   ]
  },
  {
   "cell_type": "code",
   "execution_count": 10,
   "metadata": {
    "collapsed": false
   },
   "outputs": [],
   "source": [
    "fy15q3['fiscalyear'] = 'NaN'\n",
    "fy15q3.loc[fy15q3['rmth'] > 4, 'fiscalyear'] = \"FY15\"\n",
    "fy15q3['quarter']=\"Q3\""
   ]
  },
  {
   "cell_type": "code",
   "execution_count": 11,
   "metadata": {
    "collapsed": false
   },
   "outputs": [],
   "source": [
    "fy15q3_1=fy15q3[[ 'Contact Email', 'Geo','Segment', 'Respondent Role', 'LTR', \n",
    "                 'INS - Overall Account Management',\n",
    "      'INS - Licensing and Contract Process', 'INS - Best Practices Advice', 'INS - Product Implementation Process',\n",
    "                 'INS - Overall Quality of Products', 'INS - Overall Functionality of Products', \n",
    "                 'INS - Overall Ease of Use', \n",
    "      'INS - Ability to Get Technical Support','fiscalyear', 'quarter', 'comment','LTR_Comment_Theme1 ',\n",
    "                 'LTR_Comment_Theme2',\n",
    "      'LTR_Comment_Theme3']]"
   ]
  },
  {
   "cell_type": "code",
   "execution_count": 12,
   "metadata": {
    "collapsed": true
   },
   "outputs": [],
   "source": [
    "fy15q3_1.columns=['email', 'geo','segment', 'role2', 'ltr','acct.mgt',\n",
    "      'license.contract', 'best.practice', 'implement', 'product.qual', 'functionality', 'ease.of.use', \n",
    "      'tech.support','fiscalyear', 'quarter', 'ltr.comment','ltr_comment_theme1', 'ltr_comment_theme2',\n",
    "      'ltr_comment_theme3']"
   ]
  },
  {
   "cell_type": "code",
   "execution_count": 13,
   "metadata": {
    "collapsed": false
   },
   "outputs": [],
   "source": [
    "bl.loc[bl['What can CA Technologies do to improve your likelihood to recommend us? - Translated'].isnull(),\n",
    "       'new'] = bl['What can CA Technologies do to improve your likelihood to recommend us?']"
   ]
  },
  {
   "cell_type": "code",
   "execution_count": 14,
   "metadata": {
    "collapsed": false
   },
   "outputs": [],
   "source": [
    "bl.loc[bl['What one thing can CA Technologies to improve your likelihod to recommend us? Translated'].isnull(),\n",
    "       'new1'] = bl['What one thing can CA Technologies to improve your likelihod to recommend us?']"
   ]
  },
  {
   "cell_type": "code",
   "execution_count": 15,
   "metadata": {
    "collapsed": false
   },
   "outputs": [],
   "source": [
    "bl.loc[bl['What can CA Technologies do to improve your likelihood to recommend us? - Translated.1'].isnull(),\n",
    "       'new2'] = bl['What can CA Technologies do to improve your likelihood to recommend us?.1']"
   ]
  },
  {
   "cell_type": "code",
   "execution_count": 16,
   "metadata": {
    "collapsed": false
   },
   "outputs": [],
   "source": [
    "bl['ltr.comment']=pd.concat([bl['new'].dropna(), bl['new1'].dropna(), bl['new2'].dropna() ]).reindex_like(bl)\n",
    "bl['theme1']=pd.concat([bl['LTR_Promoters_Theme1'].dropna(), bl['LTR_Passives_Theme1'].dropna(), bl['LTR_Detractors_Theme1'].dropna() ]).reindex_like(bl)\n",
    "bl['theme2']=pd.concat([bl['LTR_Promoters_Theme2'].dropna(), bl['LTR_Passives_Theme2'].dropna(), bl['LTR_Detractors_Theme2'].dropna() ]).reindex_like(bl)\n",
    "bl['theme3']=pd.concat([bl['LTR_Promoters_Theme3'].dropna(), bl['LTR_Passives_Theme3 : LTR_Passives_Theme3'].dropna(), bl['LTR_Detractors_Theme3'].dropna() ]).reindex_like(bl)"
   ]
  },
  {
   "cell_type": "code",
   "execution_count": 17,
   "metadata": {
    "collapsed": false
   },
   "outputs": [],
   "source": [
    "# bl.columns.tolist()"
   ]
  },
  {
   "cell_type": "code",
   "execution_count": 18,
   "metadata": {
    "collapsed": false
   },
   "outputs": [],
   "source": [
    "bl_1=bl[[ 'ContactEmail : ContactEmail', 'Region : Region (Global Area)','AccountType : AccountType',\n",
    "         'Role_New_WP : Role', 'How likely are you to recommend CA Technologies ', \n",
    "        u'Overall Account Management\\xe6\\xe6\\xe6\\xe6\\xe6\\xe6\\xe6\\xe6\\xe6\\xe6\\xe6\\xe6\\xe6\\xe6',\n",
    "      'Licensing and contract process', 'Best-practices advice', 'Product implementation process',\n",
    "                 'Overall quality of products', 'Overall functionality of products', \n",
    "                 'Overall ease of use of CA Technologies products', 'Ability to get technical support from CA Technologies',\n",
    "         'Fiscal Year', 'Quarter', \n",
    "         'ltr.comment','theme1', 'theme2', 'theme3']]"
   ]
  },
  {
   "cell_type": "code",
   "execution_count": 19,
   "metadata": {
    "collapsed": false
   },
   "outputs": [],
   "source": [
    "bl_1.columns=['email', 'geo','segment', 'role2', 'ltr','acct.mgt',\n",
    "      'license.contract', 'best.practice', 'implement', 'product.qual', 'functionality', 'ease.of.use', \n",
    "      'tech.support','fiscalyear', 'quarter', 'ltr.comment','ltr_comment_theme1', 'ltr_comment_theme2',\n",
    "      'ltr_comment_theme3']"
   ]
  },
  {
   "cell_type": "code",
   "execution_count": 20,
   "metadata": {
    "collapsed": false
   },
   "outputs": [
    {
     "name": "stderr",
     "output_type": "stream",
     "text": [
      "/Users/shani16/anaconda/lib/python2.7/site-packages/ipykernel/__main__.py:1: SettingWithCopyWarning: \n",
      "A value is trying to be set on a copy of a slice from a DataFrame.\n",
      "Try using .loc[row_indexer,col_indexer] = value instead\n",
      "\n",
      "See the caveats in the documentation: http://pandas.pydata.org/pandas-docs/stable/indexing.html#indexing-view-versus-copy\n",
      "  if __name__ == '__main__':\n"
     ]
    }
   ],
   "source": [
    "fy15q3_1['role2'] = fy15q3_1['role2'].map({'End User': 'END_USER', 'Influencer': 'DM/INF', 'Decision Maker': 'DM/INF', 'Recommender': 'END_USER'   })"
   ]
  },
  {
   "cell_type": "code",
   "execution_count": 21,
   "metadata": {
    "collapsed": false
   },
   "outputs": [
    {
     "name": "stderr",
     "output_type": "stream",
     "text": [
      "/Users/shani16/anaconda/lib/python2.7/site-packages/ipykernel/__main__.py:1: SettingWithCopyWarning: \n",
      "A value is trying to be set on a copy of a slice from a DataFrame.\n",
      "Try using .loc[row_indexer,col_indexer] = value instead\n",
      "\n",
      "See the caveats in the documentation: http://pandas.pydata.org/pandas-docs/stable/indexing.html#indexing-view-versus-copy\n",
      "  if __name__ == '__main__':\n"
     ]
    }
   ],
   "source": [
    "bl_1['role2'] = bl_1['role2'].map({'END': 'END_USER', 'INF': 'DM/INF', 'DM': 'DM/INF', 'PRO': 'END_USER'   })"
   ]
  },
  {
   "cell_type": "code",
   "execution_count": 22,
   "metadata": {
    "collapsed": false
   },
   "outputs": [
    {
     "data": {
      "text/plain": [
       "FY16    3068\n",
       "Name: fiscalyear, dtype: int64"
      ]
     },
     "execution_count": 22,
     "metadata": {},
     "output_type": "execute_result"
    }
   ],
   "source": [
    "fy16_1['fiscalyear'].value_counts()"
   ]
  },
  {
   "cell_type": "code",
   "execution_count": 23,
   "metadata": {
    "collapsed": false
   },
   "outputs": [],
   "source": [
    "frames= [bl_1, fy15q3_1, fy16_1]\n",
    "df=pd.concat(frames)"
   ]
  },
  {
   "cell_type": "code",
   "execution_count": 24,
   "metadata": {
    "collapsed": false
   },
   "outputs": [],
   "source": [
    "df = df[pd.notnull(df['ltr.comment'])]"
   ]
  },
  {
   "cell_type": "code",
   "execution_count": 25,
   "metadata": {
    "collapsed": false
   },
   "outputs": [
    {
     "data": {
      "text/plain": [
       "Index([u'email', u'geo', u'segment', u'role2', u'ltr', u'acct.mgt',\n",
       "       u'license.contract', u'best.practice', u'implement', u'product.qual',\n",
       "       u'functionality', u'ease.of.use', u'tech.support', u'fiscalyear',\n",
       "       u'quarter', u'ltr.comment', u'ltr_comment_theme1',\n",
       "       u'ltr_comment_theme2', u'ltr_comment_theme3'],\n",
       "      dtype='object')"
      ]
     },
     "execution_count": 25,
     "metadata": {},
     "output_type": "execute_result"
    }
   ],
   "source": [
    "df.columns"
   ]
  },
  {
   "cell_type": "code",
   "execution_count": 26,
   "metadata": {
    "collapsed": false
   },
   "outputs": [],
   "source": [
    "df = df[(df.geo == 'NaM') ]"
   ]
  },
  {
   "cell_type": "code",
   "execution_count": 27,
   "metadata": {
    "collapsed": false
   },
   "outputs": [],
   "source": [
    "df=df.fillna(df.mean())"
   ]
  },
  {
   "cell_type": "code",
   "execution_count": 28,
   "metadata": {
    "collapsed": false
   },
   "outputs": [
    {
     "data": {
      "text/html": [
       "<div>\n",
       "<table border=\"1\" class=\"dataframe\">\n",
       "  <thead>\n",
       "    <tr style=\"text-align: right;\">\n",
       "      <th></th>\n",
       "      <th>email</th>\n",
       "      <th>geo</th>\n",
       "      <th>segment</th>\n",
       "      <th>role2</th>\n",
       "      <th>ltr</th>\n",
       "      <th>acct.mgt</th>\n",
       "      <th>license.contract</th>\n",
       "      <th>best.practice</th>\n",
       "      <th>implement</th>\n",
       "      <th>product.qual</th>\n",
       "      <th>functionality</th>\n",
       "      <th>ease.of.use</th>\n",
       "      <th>tech.support</th>\n",
       "      <th>fiscalyear</th>\n",
       "      <th>quarter</th>\n",
       "      <th>ltr.comment</th>\n",
       "      <th>ltr_comment_theme1</th>\n",
       "      <th>ltr_comment_theme2</th>\n",
       "      <th>ltr_comment_theme3</th>\n",
       "    </tr>\n",
       "  </thead>\n",
       "  <tbody>\n",
       "    <tr>\n",
       "      <th>1</th>\n",
       "      <td>alain.z.cote@dgag.ca</td>\n",
       "      <td>NaM</td>\n",
       "      <td>Named</td>\n",
       "      <td>END_USER</td>\n",
       "      <td>0</td>\n",
       "      <td>9</td>\n",
       "      <td>6.772884</td>\n",
       "      <td>4</td>\n",
       "      <td>2</td>\n",
       "      <td>0</td>\n",
       "      <td>6</td>\n",
       "      <td>0.000000</td>\n",
       "      <td>0.000000</td>\n",
       "      <td>FY14</td>\n",
       "      <td>Q2</td>\n",
       "      <td>Improve the quality, stability and integration...</td>\n",
       "      <td>Product_Quality</td>\n",
       "      <td>Product_Scope</td>\n",
       "      <td>NaN</td>\n",
       "    </tr>\n",
       "    <tr>\n",
       "      <th>2</th>\n",
       "      <td>matt.merchant@ge.com</td>\n",
       "      <td>NaM</td>\n",
       "      <td>Platinum</td>\n",
       "      <td>DM/INF</td>\n",
       "      <td>9</td>\n",
       "      <td>10</td>\n",
       "      <td>8.000000</td>\n",
       "      <td>9</td>\n",
       "      <td>10</td>\n",
       "      <td>9</td>\n",
       "      <td>9</td>\n",
       "      <td>7.313038</td>\n",
       "      <td>7.602971</td>\n",
       "      <td>FY14</td>\n",
       "      <td>Q2</td>\n",
       "      <td>ITSM space is best for CA. Still work to be do...</td>\n",
       "      <td>Product_Scope</td>\n",
       "      <td>NaN</td>\n",
       "      <td>NaN</td>\n",
       "    </tr>\n",
       "    <tr>\n",
       "      <th>3</th>\n",
       "      <td>chris.schwind@firstdata.com</td>\n",
       "      <td>NaM</td>\n",
       "      <td>Platinum</td>\n",
       "      <td>END_USER</td>\n",
       "      <td>9</td>\n",
       "      <td>10</td>\n",
       "      <td>6.772884</td>\n",
       "      <td>9</td>\n",
       "      <td>7</td>\n",
       "      <td>8</td>\n",
       "      <td>8</td>\n",
       "      <td>8.000000</td>\n",
       "      <td>8.000000</td>\n",
       "      <td>FY14</td>\n",
       "      <td>Q2</td>\n",
       "      <td>Service Assurance, Mainframe tools, Scheduling...</td>\n",
       "      <td>Product_Scope</td>\n",
       "      <td>NaN</td>\n",
       "      <td>NaN</td>\n",
       "    </tr>\n",
       "    <tr>\n",
       "      <th>4</th>\n",
       "      <td>dominic.nguyen@ge.com</td>\n",
       "      <td>NaM</td>\n",
       "      <td>Platinum</td>\n",
       "      <td>END_USER</td>\n",
       "      <td>3</td>\n",
       "      <td>8</td>\n",
       "      <td>6.772884</td>\n",
       "      <td>7</td>\n",
       "      <td>3</td>\n",
       "      <td>2</td>\n",
       "      <td>4</td>\n",
       "      <td>2.000000</td>\n",
       "      <td>3.000000</td>\n",
       "      <td>FY14</td>\n",
       "      <td>Q2</td>\n",
       "      <td>Needs to get product more stable and less bugs</td>\n",
       "      <td>Product_Quality</td>\n",
       "      <td>NaN</td>\n",
       "      <td>NaN</td>\n",
       "    </tr>\n",
       "    <tr>\n",
       "      <th>5</th>\n",
       "      <td>mz1223@att.com</td>\n",
       "      <td>NaM</td>\n",
       "      <td>Platinum</td>\n",
       "      <td>END_USER</td>\n",
       "      <td>7</td>\n",
       "      <td>8</td>\n",
       "      <td>6.772884</td>\n",
       "      <td>10</td>\n",
       "      <td>10</td>\n",
       "      <td>9</td>\n",
       "      <td>10</td>\n",
       "      <td>8.000000</td>\n",
       "      <td>2.000000</td>\n",
       "      <td>FY14</td>\n",
       "      <td>Q2</td>\n",
       "      <td>We primarily use Introscope under the APM suit...</td>\n",
       "      <td>Contracts_Negotiations</td>\n",
       "      <td>NaN</td>\n",
       "      <td>NaN</td>\n",
       "    </tr>\n",
       "  </tbody>\n",
       "</table>\n",
       "</div>"
      ],
      "text/plain": [
       "                         email  geo   segment     role2  ltr  acct.mgt  \\\n",
       "1         alain.z.cote@dgag.ca  NaM     Named  END_USER    0         9   \n",
       "2         matt.merchant@ge.com  NaM  Platinum    DM/INF    9        10   \n",
       "3  chris.schwind@firstdata.com  NaM  Platinum  END_USER    9        10   \n",
       "4        dominic.nguyen@ge.com  NaM  Platinum  END_USER    3         8   \n",
       "5               mz1223@att.com  NaM  Platinum  END_USER    7         8   \n",
       "\n",
       "   license.contract  best.practice  implement  product.qual  functionality  \\\n",
       "1          6.772884              4          2             0              6   \n",
       "2          8.000000              9         10             9              9   \n",
       "3          6.772884              9          7             8              8   \n",
       "4          6.772884              7          3             2              4   \n",
       "5          6.772884             10         10             9             10   \n",
       "\n",
       "   ease.of.use  tech.support fiscalyear quarter  \\\n",
       "1     0.000000      0.000000       FY14      Q2   \n",
       "2     7.313038      7.602971       FY14      Q2   \n",
       "3     8.000000      8.000000       FY14      Q2   \n",
       "4     2.000000      3.000000       FY14      Q2   \n",
       "5     8.000000      2.000000       FY14      Q2   \n",
       "\n",
       "                                         ltr.comment      ltr_comment_theme1  \\\n",
       "1  Improve the quality, stability and integration...         Product_Quality   \n",
       "2  ITSM space is best for CA. Still work to be do...           Product_Scope   \n",
       "3  Service Assurance, Mainframe tools, Scheduling...           Product_Scope   \n",
       "4     Needs to get product more stable and less bugs         Product_Quality   \n",
       "5  We primarily use Introscope under the APM suit...  Contracts_Negotiations   \n",
       "\n",
       "  ltr_comment_theme2 ltr_comment_theme3  \n",
       "1      Product_Scope                NaN  \n",
       "2                NaN                NaN  \n",
       "3                NaN                NaN  \n",
       "4                NaN                NaN  \n",
       "5                NaN                NaN  "
      ]
     },
     "execution_count": 28,
     "metadata": {},
     "output_type": "execute_result"
    }
   ],
   "source": [
    "df.head()"
   ]
  },
  {
   "cell_type": "code",
   "execution_count": 29,
   "metadata": {
    "collapsed": false
   },
   "outputs": [
    {
     "data": {
      "text/plain": [
       "6.772884     1768\n",
       "8.000000      263\n",
       "7.000000      197\n",
       "9.000000      173\n",
       "6.000000      132\n",
       "10.000000     107\n",
       "5.000000      103\n",
       "4.000000       48\n",
       "3.000000       42\n",
       "2.000000       41\n",
       "1.000000       26\n",
       "0.000000       26\n",
       "Name: license.contract, dtype: int64"
      ]
     },
     "execution_count": 29,
     "metadata": {},
     "output_type": "execute_result"
    }
   ],
   "source": [
    "df['license.contract'].value_counts()"
   ]
  },
  {
   "cell_type": "code",
   "execution_count": 30,
   "metadata": {
    "collapsed": false
   },
   "outputs": [],
   "source": [
    "df['ltr.comment']=df['ltr.comment'].str.replace(r'\\?', '')\n",
    "df['ltr.comment']=df['ltr.comment'].str.replace(r'\\r', '')\n",
    "df['ltr.comment']=df['ltr.comment'].str.replace(r'\\#NAME', '')\n",
    "df['ltr.comment']=df['ltr.comment'].str.replace(r'n/a', '')\n",
    "df['ltr.comment']=df['ltr.comment'].str.replace(r'na', '')\n",
    "df['ltr.comment']=df['ltr.comment'].str.replace(r'-', '')\n",
    "df['ltr.comment']=df['ltr.comment'].str.replace(r'.', '')\n",
    "df['ltr.comment']=df['ltr.comment'].str.replace(r'___', '')\n",
    "df['ltr.comment']=df['ltr.comment'].str.replace(r'_', '')"
   ]
  },
  {
   "cell_type": "code",
   "execution_count": 31,
   "metadata": {
    "collapsed": false
   },
   "outputs": [
    {
     "data": {
      "text/plain": [
       "FY16    1236\n",
       "FY15     987\n",
       "FY14     701\n",
       "Name: fiscalyear, dtype: int64"
      ]
     },
     "execution_count": 31,
     "metadata": {},
     "output_type": "execute_result"
    }
   ],
   "source": [
    "df['fiscalyear'].value_counts()"
   ]
  },
  {
   "cell_type": "code",
   "execution_count": 32,
   "metadata": {
    "collapsed": false
   },
   "outputs": [
    {
     "data": {
      "text/plain": [
       "['email',\n",
       " 'geo',\n",
       " 'segment',\n",
       " 'role2',\n",
       " 'ltr',\n",
       " 'acct.mgt',\n",
       " 'license.contract',\n",
       " 'best.practice',\n",
       " 'implement',\n",
       " 'product.qual',\n",
       " 'functionality',\n",
       " 'ease.of.use',\n",
       " 'tech.support',\n",
       " 'fiscalyear',\n",
       " 'quarter',\n",
       " 'ltr.comment',\n",
       " 'ltr_comment_theme1',\n",
       " 'ltr_comment_theme2',\n",
       " 'ltr_comment_theme3']"
      ]
     },
     "execution_count": 32,
     "metadata": {},
     "output_type": "execute_result"
    }
   ],
   "source": [
    "df.columns.tolist()"
   ]
  },
  {
   "cell_type": "markdown",
   "metadata": {},
   "source": [
    "## Clustering"
   ]
  },
  {
   "cell_type": "code",
   "execution_count": 33,
   "metadata": {
    "collapsed": false
   },
   "outputs": [],
   "source": [
    "df.columns=[ 'email',\n",
    " 'geo',\n",
    " 'segment',\n",
    " 'role2',\n",
    " 'ltr',\n",
    " 'acctmgt',\n",
    " 'licensecontract',\n",
    " 'bestpractice',\n",
    " 'implement',\n",
    " 'productqual',\n",
    " 'functionality',\n",
    " 'easeofuse',\n",
    " 'techsupport',\n",
    " 'fiscalyear',\n",
    " 'quarter',\n",
    " 'ltrcomment',\n",
    " 'ltr_comment_theme1',\n",
    " 'ltr_comment_theme2',\n",
    " 'ltr_comment_theme3']"
   ]
  },
  {
   "cell_type": "code",
   "execution_count": 34,
   "metadata": {
    "collapsed": false
   },
   "outputs": [],
   "source": [
    "stopwords = nltk.corpus.stopwords.words('english')\n",
    "stopwords += ['.', ',', '(', ')', \"'\", '\"', 'ca', 'customer', 'need', 'products', 'would', 'like', 'de', 'sure',\n",
    "             'nothing', 'cost', 'us', 'use', 'get', 'make', 'needs', 'need', 'customer','customers',\n",
    "              'would', 'get', 'like', '30', 'also', 'many', 'day'\n",
    "             '30', '1000', '10', '06', '100', '1000', '1000s', '11', '12', '13','14', '15', '18', '19', '1sr', '200',\n",
    "             '2005', '2009', '2011', '2012', '20126', '2014', '2015', 'vs', 'you', 'we', 'know', 'even', 'see', 'zuk', \n",
    "              'fen' , 'gartner', 'rules', 'cas', 'year', 'nothing', 'look', 'sure', 'solutions', 'better', 'sure' ,\n",
    "              'line', 'one','clear', 'products', 'product', 'tool']"
   ]
  },
  {
   "cell_type": "code",
   "execution_count": 136,
   "metadata": {
    "collapsed": false
   },
   "outputs": [],
   "source": [
    "num_clusters = 50  # sp.unique(labels).shape[0]\n",
    "\n",
    "import nltk.stem\n",
    "english_stemmer = nltk.stem.SnowballStemmer('english')\n",
    "\n",
    "from sklearn.feature_extraction.text import TfidfVectorizer\n",
    "\n",
    "\n",
    "class StemmedTfidfVectorizer(TfidfVectorizer):\n",
    "\n",
    "    def build_analyzer(self):\n",
    "        analyzer = super(TfidfVectorizer, self).build_analyzer()\n",
    "        return lambda doc: (english_stemmer.stem(w) for w in analyzer(doc))\n",
    "\n",
    "vectorizer = StemmedTfidfVectorizer(min_df=.0005, ngram_range=(1, 5), max_features=20, smooth_idf=True,\n",
    "                                    use_idf=True,\n",
    "                                    stop_words=stopwords, decode_error='ignore'\n",
    "                                    )\n",
    "vectorized = vectorizer.fit_transform(df.ltrcomment)\n"
   ]
  },
  {
   "cell_type": "code",
   "execution_count": 137,
   "metadata": {
    "collapsed": false
   },
   "outputs": [
    {
     "data": {
      "text/html": [
       "<div>\n",
       "<table border=\"1\" class=\"dataframe\">\n",
       "  <thead>\n",
       "    <tr style=\"text-align: right;\">\n",
       "      <th></th>\n",
       "      <th>good</th>\n",
       "      <th>help</th>\n",
       "      <th>implement</th>\n",
       "      <th>improv</th>\n",
       "      <th>integr</th>\n",
       "      <th>issu</th>\n",
       "      <th>magement</th>\n",
       "      <th>new</th>\n",
       "      <th>price</th>\n",
       "      <th>provid</th>\n",
       "      <th>qualiti</th>\n",
       "      <th>respons</th>\n",
       "      <th>servic</th>\n",
       "      <th>softwar</th>\n",
       "      <th>support</th>\n",
       "      <th>team</th>\n",
       "      <th>technolog</th>\n",
       "      <th>time</th>\n",
       "      <th>tool</th>\n",
       "      <th>work</th>\n",
       "    </tr>\n",
       "  </thead>\n",
       "  <tbody>\n",
       "    <tr>\n",
       "      <th>0</th>\n",
       "      <td>0</td>\n",
       "      <td>0</td>\n",
       "      <td>0</td>\n",
       "      <td>0.48072</td>\n",
       "      <td>0.602548</td>\n",
       "      <td>0</td>\n",
       "      <td>0</td>\n",
       "      <td>0</td>\n",
       "      <td>0</td>\n",
       "      <td>0</td>\n",
       "      <td>0.637059</td>\n",
       "      <td>0</td>\n",
       "      <td>0</td>\n",
       "      <td>0</td>\n",
       "      <td>0</td>\n",
       "      <td>0</td>\n",
       "      <td>0</td>\n",
       "      <td>0</td>\n",
       "      <td>0</td>\n",
       "      <td>0</td>\n",
       "    </tr>\n",
       "  </tbody>\n",
       "</table>\n",
       "</div>"
      ],
      "text/plain": [
       "   good  help  implement   improv    integr  issu  magement  new  price  \\\n",
       "0     0     0          0  0.48072  0.602548     0         0    0      0   \n",
       "\n",
       "   provid   qualiti  respons  servic  softwar  support  team  technolog  time  \\\n",
       "0       0  0.637059        0       0        0        0     0          0     0   \n",
       "\n",
       "   tool  work  \n",
       "0     0     0  "
      ]
     },
     "execution_count": 137,
     "metadata": {},
     "output_type": "execute_result"
    }
   ],
   "source": [
    "feature= vectorized.toarray()\n",
    "feature_df = pd.DataFrame(feature, columns=vectorizer.get_feature_names())\n",
    "feature_df[:1]"
   ]
  },
  {
   "cell_type": "code",
   "execution_count": 138,
   "metadata": {
    "collapsed": false
   },
   "outputs": [
    {
     "name": "stderr",
     "output_type": "stream",
     "text": [
      "/Users/shani16/anaconda/lib/python2.7/site-packages/ipykernel/__main__.py:4: FutureWarning: sort(columns=....) is deprecated, use sort_values(by=.....)\n"
     ]
    },
    {
     "data": {
      "text/html": [
       "<div>\n",
       "<table border=\"1\" class=\"dataframe\">\n",
       "  <thead>\n",
       "    <tr style=\"text-align: right;\">\n",
       "      <th></th>\n",
       "      <th>word</th>\n",
       "      <th>freq</th>\n",
       "    </tr>\n",
       "  </thead>\n",
       "  <tbody>\n",
       "    <tr>\n",
       "      <th>14</th>\n",
       "      <td>support</td>\n",
       "      <td>394.337256</td>\n",
       "    </tr>\n",
       "    <tr>\n",
       "      <th>12</th>\n",
       "      <td>servic</td>\n",
       "      <td>245.315477</td>\n",
       "    </tr>\n",
       "    <tr>\n",
       "      <th>3</th>\n",
       "      <td>improv</td>\n",
       "      <td>220.789404</td>\n",
       "    </tr>\n",
       "    <tr>\n",
       "      <th>19</th>\n",
       "      <td>work</td>\n",
       "      <td>170.733716</td>\n",
       "    </tr>\n",
       "    <tr>\n",
       "      <th>9</th>\n",
       "      <td>provid</td>\n",
       "      <td>154.122050</td>\n",
       "    </tr>\n",
       "    <tr>\n",
       "      <th>15</th>\n",
       "      <td>team</td>\n",
       "      <td>139.568217</td>\n",
       "    </tr>\n",
       "    <tr>\n",
       "      <th>5</th>\n",
       "      <td>issu</td>\n",
       "      <td>137.961223</td>\n",
       "    </tr>\n",
       "    <tr>\n",
       "      <th>16</th>\n",
       "      <td>technolog</td>\n",
       "      <td>137.056910</td>\n",
       "    </tr>\n",
       "    <tr>\n",
       "      <th>8</th>\n",
       "      <td>price</td>\n",
       "      <td>128.596646</td>\n",
       "    </tr>\n",
       "    <tr>\n",
       "      <th>6</th>\n",
       "      <td>magement</td>\n",
       "      <td>127.327974</td>\n",
       "    </tr>\n",
       "  </tbody>\n",
       "</table>\n",
       "</div>"
      ],
      "text/plain": [
       "         word        freq\n",
       "14    support  394.337256\n",
       "12     servic  245.315477\n",
       "3      improv  220.789404\n",
       "19       work  170.733716\n",
       "9      provid  154.122050\n",
       "15       team  139.568217\n",
       "5        issu  137.961223\n",
       "16  technolog  137.056910\n",
       "8       price  128.596646\n",
       "6    magement  127.327974"
      ]
     },
     "execution_count": 138,
     "metadata": {},
     "output_type": "execute_result"
    }
   ],
   "source": [
    "word_frequency = feature_df.sum().reset_index()\n",
    "word_frequency.columns=['word', 'freq']\n",
    "\n",
    "word_frequency=word_frequency.sort(columns='freq', ascending= False)\n",
    "word_frequency[:10]\n"
   ]
  },
  {
   "cell_type": "markdown",
   "metadata": {},
   "source": [
    "## Classification- Logistic Regression"
   ]
  },
  {
   "cell_type": "code",
   "execution_count": 139,
   "metadata": {
    "collapsed": false
   },
   "outputs": [],
   "source": [
    "# df_new1=df.join(topics)"
   ]
  },
  {
   "cell_type": "code",
   "execution_count": 140,
   "metadata": {
    "collapsed": false
   },
   "outputs": [],
   "source": [
    "df_new1=df"
   ]
  },
  {
   "cell_type": "code",
   "execution_count": 141,
   "metadata": {
    "collapsed": false
   },
   "outputs": [],
   "source": [
    "fy=pd.get_dummies(df_new1['fiscalyear'])\n",
    "geo=pd.get_dummies(df_new1['geo'])\n",
    "role=pd.get_dummies(df_new1['role2'])\n",
    "quarter=pd.get_dummies(df_new1['quarter'])\n",
    "segment=pd.get_dummies(df_new1['segment'])\n",
    "df1=pd.concat([fy, geo, role, quarter, segment, df_new1], axis=1)\n",
    "df1=pd.concat([fy, role, quarter, segment, df_new1], axis=1)"
   ]
  },
  {
   "cell_type": "code",
   "execution_count": 142,
   "metadata": {
    "collapsed": false
   },
   "outputs": [
    {
     "data": {
      "text/plain": [
       "[u'FY14',\n",
       " u'FY15',\n",
       " u'FY16',\n",
       " 'DM/INF',\n",
       " 'END_USER',\n",
       " u'Q1',\n",
       " u'Q2',\n",
       " u'Q3',\n",
       " u'Q4',\n",
       " u'Existing_Enterprise',\n",
       " u'Growth',\n",
       " u'Named',\n",
       " u'Platinum',\n",
       " 'email',\n",
       " 'geo',\n",
       " 'segment',\n",
       " 'role2',\n",
       " 'ltr',\n",
       " 'acctmgt',\n",
       " 'licensecontract',\n",
       " 'bestpractice',\n",
       " 'implement',\n",
       " 'productqual',\n",
       " 'functionality',\n",
       " 'easeofuse',\n",
       " 'techsupport',\n",
       " 'fiscalyear',\n",
       " 'quarter',\n",
       " 'ltrcomment',\n",
       " 'ltr_comment_theme1',\n",
       " 'ltr_comment_theme2',\n",
       " 'ltr_comment_theme3']"
      ]
     },
     "execution_count": 142,
     "metadata": {},
     "output_type": "execute_result"
    }
   ],
   "source": [
    "df1.columns.tolist()"
   ]
  },
  {
   "cell_type": "code",
   "execution_count": 143,
   "metadata": {
    "collapsed": false
   },
   "outputs": [
    {
     "data": {
      "text/plain": [
       "Product_Quality                             372\n",
       "Support                                     370\n",
       "Account_Team_Relationship                   286\n",
       "Product_Scope                               230\n",
       "Account Mgt                                 214\n",
       "Contracts_Negotiations                      160\n",
       "Account Management and Agent Support        157\n",
       "Contracts                                   111\n",
       "Product_Usability                           109\n",
       "Product Mentions                             99\n",
       "Product Scope                                98\n",
       "Implementations_Upgrades                     64\n",
       "Product Quality                              52\n",
       "Services                                     45\n",
       "Brand                                        41\n",
       "Implementations/Upgrades                     37\n",
       "CA Services                                  35\n",
       "Product Usability                            34\n",
       "Documentation                                18\n",
       "Issue Resolution                             12\n",
       "Unable to recommend                           3\n",
       "Partners                                      3\n",
       "Self_service/KnowledgeBase/Website            2\n",
       "Self_service/KnowledgeBase/Website Topic      2\n",
       "Account_Team                                  1\n",
       "Name: ltr_comment_theme1, dtype: int64"
      ]
     },
     "execution_count": 143,
     "metadata": {},
     "output_type": "execute_result"
    }
   ],
   "source": [
    "df1['ltr_comment_theme1'].value_counts()"
   ]
  },
  {
   "cell_type": "code",
   "execution_count": 144,
   "metadata": {
    "collapsed": false
   },
   "outputs": [],
   "source": [
    "rename_theme=({'Product Quality': 'Product_Quality', 'Product_Quality': 'Product_Quality', \n",
    "               'Account_Team_Relationship': 'Account_Team_Relationship',\n",
    "               'Contracts': 'Contracts','Product Mentions': 'Product Mentions',\n",
    "               'Contracts_Negotiations': 'Contracts', 'Product_Scope': 'Product Scope',\n",
    "            'Account Mgt': 'Account_Team_Relationship','Account Management and Agent Support': 'Support',\n",
    "           'Support': 'Support','Product Scope': 'Product Scope','Brand': 'Brand','Documentation':'Product_Usability',\n",
    "           'Issue Resolution': \"Support\",'Partners': \"Brand\",'Unable to recommend': \"Unable to recommend\",\n",
    "            'Account_Team':'Account_Team_Relationship', 'Implementations/Upgrades': 'Implementations/Upgrades',\n",
    "               'Implementations_Upgrades': 'Implementations/Upgrades',\n",
    "            'CA Services': 'Services','Product Usability': 'Product_Usability',\n",
    "               'Product_Usability': 'Product_Usability',\n",
    "               'Self_service/KnowledgeBase/Website Topic': 'Self_service/KnowledgeBase/Website'})"
   ]
  },
  {
   "cell_type": "code",
   "execution_count": 145,
   "metadata": {
    "collapsed": false
   },
   "outputs": [],
   "source": [
    "df1['theme1']=df1['ltr_comment_theme1'].map(rename_theme)\n",
    "df1['theme2']=df1['ltr_comment_theme2'].map(rename_theme)\n",
    "df1['theme3']=df1['ltr_comment_theme3'].map(rename_theme)"
   ]
  },
  {
   "cell_type": "code",
   "execution_count": 146,
   "metadata": {
    "collapsed": true
   },
   "outputs": [],
   "source": [
    "rename_theme=({'Product Quality': 'Product_Quality', 'Product_Quality': 'Product_Quality', \n",
    "               'Account_Team_Relationship': 'Account_Team_Relationship',\n",
    "               'Contracts': 'Account_Team_Relationship','Product Mentions': 'Product_Quality',\n",
    "               'Contracts_Negotiations': 'Account_Team_Relationship', 'Product_Scope': 'Product_Quality',\n",
    "            'Account Mgt': 'Account_Team_Relationship','Account Management and Agent Support': 'Support',\n",
    "           'Support': 'Support','Product Scope': 'Product_Quality','Brand': 'Account_Team_Relationship',\n",
    "               'Documentation':'Product_Quality',\n",
    "           'Issue Resolution': \"Support\",'Partners': \"Account_Team_Relationship\",\n",
    "               'Unable to recommend': \"NaN\",\n",
    "            'Account_Team':'Account_Team_Relationship', 'Implementations/Upgrades': 'Support',\n",
    "               'Implementations_Upgrades': 'Support',\n",
    "            'CA Services': 'Support','Product Usability': 'Product_Quality',\n",
    "               'Product_Usability': 'Product_Quality',\n",
    "               'Self_service/KnowledgeBase/Website Topic': 'Support'})"
   ]
  },
  {
   "cell_type": "code",
   "execution_count": 147,
   "metadata": {
    "collapsed": true
   },
   "outputs": [],
   "source": [
    "df1['theme1']=df1['ltr_comment_theme1'].map(rename_theme)\n",
    "df1['theme2']=df1['ltr_comment_theme2'].map(rename_theme)\n",
    "df1['theme3']=df1['ltr_comment_theme3'].map(rename_theme)"
   ]
  },
  {
   "cell_type": "code",
   "execution_count": 148,
   "metadata": {
    "collapsed": false
   },
   "outputs": [
    {
     "data": {
      "text/plain": [
       "Product_Quality              1012\n",
       "Account_Team_Relationship     816\n",
       "Support                       677\n",
       "NaN                             3\n",
       "Name: theme1, dtype: int64"
      ]
     },
     "execution_count": 148,
     "metadata": {},
     "output_type": "execute_result"
    }
   ],
   "source": [
    "df1['theme1'].value_counts()"
   ]
  },
  {
   "cell_type": "code",
   "execution_count": 149,
   "metadata": {
    "collapsed": false
   },
   "outputs": [
    {
     "data": {
      "text/plain": [
       "[u'FY14',\n",
       " u'FY15',\n",
       " u'FY16',\n",
       " 'DM/INF',\n",
       " 'END_USER',\n",
       " u'Q1',\n",
       " u'Q2',\n",
       " u'Q3',\n",
       " u'Q4',\n",
       " u'Existing_Enterprise',\n",
       " u'Growth',\n",
       " u'Named',\n",
       " u'Platinum',\n",
       " 'email',\n",
       " 'geo',\n",
       " 'segment',\n",
       " 'role2',\n",
       " 'ltr',\n",
       " 'acctmgt',\n",
       " 'licensecontract',\n",
       " 'bestpractice',\n",
       " 'implement',\n",
       " 'productqual',\n",
       " 'functionality',\n",
       " 'easeofuse',\n",
       " 'techsupport',\n",
       " 'fiscalyear',\n",
       " 'quarter',\n",
       " 'ltrcomment',\n",
       " 'ltr_comment_theme1',\n",
       " 'ltr_comment_theme2',\n",
       " 'ltr_comment_theme3',\n",
       " 'theme1',\n",
       " 'theme2',\n",
       " 'theme3']"
      ]
     },
     "execution_count": 149,
     "metadata": {},
     "output_type": "execute_result"
    }
   ],
   "source": [
    "df1.columns.tolist()"
   ]
  },
  {
   "cell_type": "code",
   "execution_count": 150,
   "metadata": {
    "collapsed": false
   },
   "outputs": [],
   "source": [
    "# from sklearn.cross_validation import train_test_split\n",
    "# X=new_data.iloc[:,0:53]\n",
    "# y=new_data.iloc[:,54]\n",
    "# # create 80%-20% train-test split\n",
    "# X_train, X_test, y_train, y_test = train_test_split(X, y, test_size=0.2)\n"
   ]
  },
  {
   "cell_type": "code",
   "execution_count": 151,
   "metadata": {
    "collapsed": false
   },
   "outputs": [],
   "source": [
    "# est=LogisticRegression()\n",
    "# est.fit(X_train, y_train)\n",
    "# pred = est.predict(X_test)\n",
    "# accuracy_score(pred, y_test)"
   ]
  },
  {
   "cell_type": "code",
   "execution_count": 152,
   "metadata": {
    "collapsed": false
   },
   "outputs": [],
   "source": [
    "# scores = [accuracy_score, precision_score, recall_score]\n",
    "# models = [LogisticRegression(), SVC(probability = True), GaussianNB(), DecisionTreeClassifier(max_depth = 4), \n",
    "#           RandomForestClassifier()]\n",
    "# def get_metrics(features, outcome, test=0.2):\n",
    "    \n",
    "#     train_X, test_X, train_y, test_y = train_test_split(features, outcome, test_size = test, random_state=444)\n",
    "\n",
    "    \n",
    "#     # create empty lists\n",
    "#     LogisticReg = []\n",
    "#     SVMC = []\n",
    "#     GaussNB = []\n",
    "#     DecisionTree = []\n",
    "#     RandomForest = []\n",
    "#     kNN9 = []\n",
    "#     ExtraTrees = []\n",
    "    \n",
    "#     # list of lists\n",
    "#     lists = [LogisticReg, SVMC, GaussNB, DecisionTree, RandomForest]\n",
    "    \n",
    "#     # populate lists with scores of each scoring method\n",
    "#     for i, model in enumerate(models):\n",
    "#         for score in scores:\n",
    "#             est = model\n",
    "#             est.fit(train_X, train_y)\n",
    "#             pred = est.predict(test_X)\n",
    "#             lists[i].append(score(test_y, pred))\n",
    "        \n",
    "#     # create a dataframe which aggregates the lists\n",
    "#     scores_df = pd.DataFrame(data = [LogisticReg, SVMC, GaussNB, DecisionTree, RandomForest])\n",
    "#     scores_df.index = [\"LogisticReg\", \"SVMC\", \"GaussNB\", \"DecisionTree\", \"RandomForest\"]\n",
    "#     scores_df.columns = [\"Accuracy\", \"Precision\", \"Recall\"]\n",
    "#     return scores_df"
   ]
  },
  {
   "cell_type": "code",
   "execution_count": 153,
   "metadata": {
    "collapsed": false
   },
   "outputs": [],
   "source": [
    "# get_metrics(X,y, 0.2)"
   ]
  },
  {
   "cell_type": "code",
   "execution_count": 154,
   "metadata": {
    "collapsed": false
   },
   "outputs": [
    {
     "data": {
      "text/plain": [
       "Index([               u'FY14',                u'FY15',                u'FY16',\n",
       "                    u'DM/INF',            u'END_USER',                  u'Q1',\n",
       "                        u'Q2',                  u'Q3',                  u'Q4',\n",
       "       u'Existing_Enterprise',              u'Growth',               u'Named',\n",
       "                  u'Platinum',               u'email',                 u'geo',\n",
       "                   u'segment',               u'role2',                 u'ltr',\n",
       "                   u'acctmgt',     u'licensecontract',        u'bestpractice',\n",
       "                 u'implement',         u'productqual',       u'functionality',\n",
       "                 u'easeofuse',         u'techsupport',          u'fiscalyear',\n",
       "                   u'quarter',          u'ltrcomment',  u'ltr_comment_theme1',\n",
       "        u'ltr_comment_theme2',  u'ltr_comment_theme3',              u'theme1',\n",
       "                    u'theme2',              u'theme3'],\n",
       "      dtype='object')"
      ]
     },
     "execution_count": 154,
     "metadata": {},
     "output_type": "execute_result"
    }
   ],
   "source": [
    "df1.columns"
   ]
  },
  {
   "cell_type": "markdown",
   "metadata": {},
   "source": [
    "## Classification - Naives Bayes/ SVM"
   ]
  },
  {
   "cell_type": "code",
   "execution_count": 155,
   "metadata": {
    "collapsed": false
   },
   "outputs": [],
   "source": [
    "df4=df1[[\n",
    " 'email',\n",
    " 'ltrcomment',\n",
    "  'END_USER',\n",
    "    'Platinum',\n",
    "    u'ltr',\n",
    "   u'acctmgt',\n",
    "  u'licensecontract',\n",
    "  u'bestpractice',\n",
    "  u'implement',\n",
    "  u'productqual',\n",
    "  u'functionality',\n",
    "  u'easeofuse',\n",
    " u'techsupport', \n",
    "     'theme1',\n",
    " 'theme2',\n",
    " 'theme3',]]"
   ]
  },
  {
   "cell_type": "code",
   "execution_count": 156,
   "metadata": {
    "collapsed": false
   },
   "outputs": [
    {
     "name": "stderr",
     "output_type": "stream",
     "text": [
      "/Users/shani16/anaconda/lib/python2.7/site-packages/ipykernel/__main__.py:4: SettingWithCopyWarning: \n",
      "A value is trying to be set on a copy of a slice from a DataFrame.\n",
      "Try using .loc[row_indexer,col_indexer] = value instead\n",
      "\n",
      "See the caveats in the documentation: http://pandas.pydata.org/pandas-docs/stable/indexing.html#indexing-view-versus-copy\n"
     ]
    }
   ],
   "source": [
    "names=['Support', 'Account_Team_Relationship', 'Product_Quality']\n",
    "for i in names:\n",
    "    for column in df4:\n",
    "        df4[i]=df4[i] = np.where((df4.theme1 ==i) | (df4.theme2 == i) | (df4.theme3==i), 1, 0)"
   ]
  },
  {
   "cell_type": "code",
   "execution_count": 157,
   "metadata": {
    "collapsed": false
   },
   "outputs": [
    {
     "data": {
      "text/plain": [
       "Index([                    u'email',                u'ltrcomment',\n",
       "                        u'END_USER',                  u'Platinum',\n",
       "                             u'ltr',                   u'acctmgt',\n",
       "                 u'licensecontract',              u'bestpractice',\n",
       "                       u'implement',               u'productqual',\n",
       "                   u'functionality',                 u'easeofuse',\n",
       "                     u'techsupport',                    u'theme1',\n",
       "                          u'theme2',                    u'theme3',\n",
       "                         u'Support', u'Account_Team_Relationship',\n",
       "                 u'Product_Quality'],\n",
       "      dtype='object')"
      ]
     },
     "execution_count": 157,
     "metadata": {},
     "output_type": "execute_result"
    }
   ],
   "source": [
    "df4.columns"
   ]
  },
  {
   "cell_type": "code",
   "execution_count": 158,
   "metadata": {
    "collapsed": false
   },
   "outputs": [],
   "source": [
    "df4 = df4.rename(columns={'email': 'contactemail', 'implement': 'implementations'})"
   ]
  },
  {
   "cell_type": "code",
   "execution_count": 159,
   "metadata": {
    "collapsed": false
   },
   "outputs": [],
   "source": [
    "df5=feature_df.join(df4)"
   ]
  },
  {
   "cell_type": "code",
   "execution_count": 160,
   "metadata": {
    "collapsed": false
   },
   "outputs": [],
   "source": [
    "df5=df5.drop(['contactemail', 'ltrcomment', 'Support','Product_Quality', 'Account_Team_Relationship'], axis=1)\n",
    "# df5=df5.dropna()"
   ]
  },
  {
   "cell_type": "code",
   "execution_count": 161,
   "metadata": {
    "collapsed": false
   },
   "outputs": [],
   "source": [
    "df5 = df5.replace(np.nan,' ', regex=True)"
   ]
  },
  {
   "cell_type": "code",
   "execution_count": 162,
   "metadata": {
    "collapsed": false
   },
   "outputs": [],
   "source": [
    "df5['themes'] = df5.theme1.map(str) + \",\" + df5.theme2  + ',' + df5.theme3"
   ]
  },
  {
   "cell_type": "code",
   "execution_count": 163,
   "metadata": {
    "collapsed": false
   },
   "outputs": [],
   "source": [
    "df5['themes']=df5['themes'].replace(',,',',', regex=True)\n",
    "df5['themes']=df5['themes'].replace(',, ','', regex=True)\n",
    "# df5['themes']= df5['themes'].replace(', ','', regex=True)\n",
    "# df5['themes']= df5['themes'].replace(' ,','', regex=True)\n",
    "df5['themes']= df5['themes'].replace(' ','', regex=True)\n",
    "df5['themes'] = df5['themes'].replace('NaN','', regex=True)\n",
    "df5['themes']=df5['themes'].replace(', ','', regex=True)\n"
   ]
  },
  {
   "cell_type": "code",
   "execution_count": 164,
   "metadata": {
    "collapsed": false
   },
   "outputs": [],
   "source": [
    "df5=df5[(df5.themes != '')]\n",
    "df5=df5[(df5.themes != \",\")]"
   ]
  },
  {
   "cell_type": "code",
   "execution_count": 165,
   "metadata": {
    "collapsed": false
   },
   "outputs": [],
   "source": [
    "rename_theme=({'Product_Quality,' : 'Product_Quality',\n",
    "'Account_Team_Relationship,' : 'Account_Team_Relationship'  ,                                          \n",
    "'Support,': 'Support',                                                                      \n",
    "'Product_Quality,Product_Quality,' : 'Product_Quality',\n",
    "'Support,Support,Support' : 'Support' ,                                                         \n",
    "'Account_Team_Relationship,Product_Quality,':'Account_Team_Relationship,Product_Quality',            \n",
    "'Support,Product_Quality,' : 'Support,Product_Quality',                                                          \n",
    "'Product_Quality,Support,' : 'Support,Product_Quality',                                                          \n",
    "'Account_Team_Relationship,Account_Team_Relationship,' : 'Account_Team_Relationship' ,                            \n",
    "'Account_Team_Relationship,Support,' : 'Account_Team_Relationship,Support' ,                                               \n",
    "'Support,Support,' :'Support'   ,  \n",
    "'Support,Account_Team_Relationship,' : 'Account_Team_Relationship,Support' ,\n",
    "'Account_Team_Relationship,Product_Quality,Product_Quality' : 'Account_Team_Relationship,Product_Quality',                         \n",
    "'Account_Team_Relationship,Support,Product_Quality' : 'Account_Team_Relationship,Support,Product_Quality' ,                            \n",
    "'Account_Team_Relationship,Account_Team_Relationship,Product_Quality' : 'Account_Team_Relationship,Product_Quality',\n",
    "'Support,Support,Product_Quality'  : 'Support,Product_Quality',\n",
    "'Support,Product_Quality,Product_Quality' :'Support,Product_Quality',                                          \n",
    "'Product_Quality,Product_Quality,Product_Quality' : 'Product_Quality',                                   \n",
    "'Product_Quality,Account_Team_Relationship, ' : 'Product_Quality,Account_Team_Relationship',                                        \n",
    "'Account_Team_Relationship,Account_Team_Relationship,Support' : 'Account_Team_Relationship,Support',                      \n",
    "'Account_Team_Relationship,Account_Team_Relationship,Account_Team_Relationship' : 'Account_Team_Relationship',     \n",
    "'Support,Account_Team_Relationship,Support' :  'Account_Team_Relationship,Support',                                       \n",
    "'Support,Support,Account_Team_Relationship' : 'Account_Team_Relationship,Support',                                         \n",
    "'Account_Team_Relationship,Support,Account_Team_Relationship' : 'Account_Team_Relationship,Support',                       \n",
    "',Support,': 'Support',                                                                         \n",
    "'Account_Team_Relationship,Support,Support' : 'Account_Team_Relationship,Support',                                         \n",
    "'Support,Account_Team_Relationship,Account_Team_Relationship' : 'Account_Team_Relationship,Support',                        \n",
    "'Support,Account_Team_Relationship,Product_Quality' : 'Account_Team_Relationship,Support,Product_Quality',\n",
    "'Account_Team_Relationship,Product_Quality,Support' : 'Account_Team_Relationship,Support,Product_Quality',  \n",
    "'Product_Quality,Product_Quality,Support' :   'Support,Product_Quality',                                      \n",
    "'Product_Quality,Support': 'Support,Product_Quality',                                                            \n",
    "'Account_Team_Relationship,Product_Quality,Account_Team_Relationship' : 'Account_Team_Relationship,Product_Quality',\n",
    "'Product_Quality,Support,Account_Team_Relationship' : 'Account_Team_Relationship,Support,Product_Quality', \n",
    "'Support,Product_Quality,Support' :  'Support,Product_Quality',                                             \n",
    "'Product_Quality,Account_Team_Relationship' :   'Account_Team_Relationship,Product_Quality',                                        \n",
    "',Account_Team_Relationship,' : 'Account_Team_Relationship' ,                                                       \n",
    "'Product_Quality,Support,Support' : 'Support,Product_Quality',                                                  \n",
    "',Product_Quality,' : 'Product_Quality',                                                                 \n",
    "',Account_Team_Relationship,Account_Team_Relationship': 'Account_Team_Relationship',                              \n",
    "',Support,Account_Team_Relationship':  'Account_Team_Relationship,Support',                                                \n",
    "'Account_Team_Relationship,Product_Quality' :  'Account_Team_Relationship,Product_Quality',                                         \n",
    "'Product_Quality,Product_Quality,Account_Team_Relationship ' : 'Account_Team_Relationship,Product_Quality',\n",
    "'Product_Quality,Support,Product_Quality' : 'Support,Product_Quality',                                       \n",
    "',Product_Quality,Product_Quality': 'Product_Quality',                                                  \n",
    "'Product_Quality,Account_Team_Relationship,Account_Team_Relationship':'Account_Team_Relationship,Product_Quality',                 \n",
    "'Support,Support' : 'Support' ,                                                                   \n",
    "'Product_Quality,Account_Team_Relationship,Support':'Account_Team_Relationship,Support,Product_Quality', \n",
    "               'Product_Quality,,': 'Product_Quality', \n",
    "             'Account_Team_Relationship,,': 'Account_Team_Relationship', \n",
    "              'Support,,': 'Support'})"
   ]
  },
  {
   "cell_type": "code",
   "execution_count": 166,
   "metadata": {
    "collapsed": false
   },
   "outputs": [],
   "source": [
    "df5['themesa']=df5['themes'].map(rename_theme)"
   ]
  },
  {
   "cell_type": "code",
   "execution_count": 167,
   "metadata": {
    "collapsed": false
   },
   "outputs": [],
   "source": [
    "df5=df5[pd.notnull(df5['themesa'])]"
   ]
  },
  {
   "cell_type": "code",
   "execution_count": 168,
   "metadata": {
    "collapsed": false
   },
   "outputs": [],
   "source": [
    "df5=df5[(df5.theme1 != ' ')]"
   ]
  },
  {
   "cell_type": "code",
   "execution_count": 169,
   "metadata": {
    "collapsed": true
   },
   "outputs": [],
   "source": [
    "names=['Support', 'Account_Team_Relationship',  'Product_Quality', ]"
   ]
  },
  {
   "cell_type": "code",
   "execution_count": 170,
   "metadata": {
    "collapsed": true
   },
   "outputs": [],
   "source": [
    "for i in names:\n",
    "    for column in df5:\n",
    "        df5[i]=df5[i] = np.where((df5.theme1 ==i) | (df5.theme2 == i) | (df5.theme3==i), 1, 0)"
   ]
  },
  {
   "cell_type": "code",
   "execution_count": 171,
   "metadata": {
    "collapsed": false
   },
   "outputs": [
    {
     "data": {
      "text/html": [
       "<div>\n",
       "<table border=\"1\" class=\"dataframe\">\n",
       "  <thead>\n",
       "    <tr style=\"text-align: right;\">\n",
       "      <th></th>\n",
       "      <th>good</th>\n",
       "      <th>help</th>\n",
       "      <th>implement</th>\n",
       "      <th>improv</th>\n",
       "      <th>integr</th>\n",
       "      <th>issu</th>\n",
       "      <th>magement</th>\n",
       "      <th>new</th>\n",
       "      <th>price</th>\n",
       "      <th>provid</th>\n",
       "      <th>...</th>\n",
       "      <th>easeofuse</th>\n",
       "      <th>techsupport</th>\n",
       "      <th>theme1</th>\n",
       "      <th>theme2</th>\n",
       "      <th>theme3</th>\n",
       "      <th>themes</th>\n",
       "      <th>themesa</th>\n",
       "      <th>Support</th>\n",
       "      <th>Account_Team_Relationship</th>\n",
       "      <th>Product_Quality</th>\n",
       "    </tr>\n",
       "  </thead>\n",
       "  <tbody>\n",
       "    <tr>\n",
       "      <th>0</th>\n",
       "      <td>0</td>\n",
       "      <td>0</td>\n",
       "      <td>0</td>\n",
       "      <td>0.48072</td>\n",
       "      <td>0.602548</td>\n",
       "      <td>0</td>\n",
       "      <td>0.000000</td>\n",
       "      <td>0</td>\n",
       "      <td>0</td>\n",
       "      <td>0</td>\n",
       "      <td>...</td>\n",
       "      <td>7.31304</td>\n",
       "      <td>7.60297</td>\n",
       "      <td>Product_Quality</td>\n",
       "      <td>Product_Quality</td>\n",
       "      <td></td>\n",
       "      <td>Product_Quality,Product_Quality,</td>\n",
       "      <td>Product_Quality</td>\n",
       "      <td>0</td>\n",
       "      <td>0</td>\n",
       "      <td>1</td>\n",
       "    </tr>\n",
       "    <tr>\n",
       "      <th>1</th>\n",
       "      <td>0</td>\n",
       "      <td>0</td>\n",
       "      <td>0</td>\n",
       "      <td>0.00000</td>\n",
       "      <td>0.000000</td>\n",
       "      <td>0</td>\n",
       "      <td>0.754589</td>\n",
       "      <td>0</td>\n",
       "      <td>0</td>\n",
       "      <td>0</td>\n",
       "      <td>...</td>\n",
       "      <td>0</td>\n",
       "      <td>0</td>\n",
       "      <td>Product_Quality</td>\n",
       "      <td>Product_Quality</td>\n",
       "      <td></td>\n",
       "      <td>Product_Quality,Product_Quality,</td>\n",
       "      <td>Product_Quality</td>\n",
       "      <td>0</td>\n",
       "      <td>0</td>\n",
       "      <td>1</td>\n",
       "    </tr>\n",
       "    <tr>\n",
       "      <th>1</th>\n",
       "      <td>0</td>\n",
       "      <td>0</td>\n",
       "      <td>0</td>\n",
       "      <td>0.00000</td>\n",
       "      <td>0.000000</td>\n",
       "      <td>0</td>\n",
       "      <td>0.754589</td>\n",
       "      <td>0</td>\n",
       "      <td>0</td>\n",
       "      <td>0</td>\n",
       "      <td>...</td>\n",
       "      <td>7.31304</td>\n",
       "      <td>7.60297</td>\n",
       "      <td>Account_Team_Relationship</td>\n",
       "      <td></td>\n",
       "      <td></td>\n",
       "      <td>Account_Team_Relationship,,</td>\n",
       "      <td>Account_Team_Relationship</td>\n",
       "      <td>0</td>\n",
       "      <td>1</td>\n",
       "      <td>0</td>\n",
       "    </tr>\n",
       "    <tr>\n",
       "      <th>2</th>\n",
       "      <td>0</td>\n",
       "      <td>0</td>\n",
       "      <td>0</td>\n",
       "      <td>0.00000</td>\n",
       "      <td>0.000000</td>\n",
       "      <td>0</td>\n",
       "      <td>0.000000</td>\n",
       "      <td>0</td>\n",
       "      <td>0</td>\n",
       "      <td>0</td>\n",
       "      <td>...</td>\n",
       "      <td>7.31304</td>\n",
       "      <td>7.60297</td>\n",
       "      <td>Product_Quality</td>\n",
       "      <td></td>\n",
       "      <td></td>\n",
       "      <td>Product_Quality,,</td>\n",
       "      <td>Product_Quality</td>\n",
       "      <td>0</td>\n",
       "      <td>0</td>\n",
       "      <td>1</td>\n",
       "    </tr>\n",
       "    <tr>\n",
       "      <th>2</th>\n",
       "      <td>0</td>\n",
       "      <td>0</td>\n",
       "      <td>0</td>\n",
       "      <td>0.00000</td>\n",
       "      <td>0.000000</td>\n",
       "      <td>0</td>\n",
       "      <td>0.000000</td>\n",
       "      <td>0</td>\n",
       "      <td>0</td>\n",
       "      <td>0</td>\n",
       "      <td>...</td>\n",
       "      <td>7.31304</td>\n",
       "      <td>7.60297</td>\n",
       "      <td>Account_Team_Relationship</td>\n",
       "      <td></td>\n",
       "      <td></td>\n",
       "      <td>Account_Team_Relationship,,</td>\n",
       "      <td>Account_Team_Relationship</td>\n",
       "      <td>0</td>\n",
       "      <td>1</td>\n",
       "      <td>0</td>\n",
       "    </tr>\n",
       "  </tbody>\n",
       "</table>\n",
       "<p>5 rows × 39 columns</p>\n",
       "</div>"
      ],
      "text/plain": [
       "   good  help  implement   improv    integr  issu  magement  new  price  \\\n",
       "0     0     0          0  0.48072  0.602548     0  0.000000    0      0   \n",
       "1     0     0          0  0.00000  0.000000     0  0.754589    0      0   \n",
       "1     0     0          0  0.00000  0.000000     0  0.754589    0      0   \n",
       "2     0     0          0  0.00000  0.000000     0  0.000000    0      0   \n",
       "2     0     0          0  0.00000  0.000000     0  0.000000    0      0   \n",
       "\n",
       "   provid       ...         easeofuse  techsupport                     theme1  \\\n",
       "0       0       ...           7.31304      7.60297            Product_Quality   \n",
       "1       0       ...                 0            0            Product_Quality   \n",
       "1       0       ...           7.31304      7.60297  Account_Team_Relationship   \n",
       "2       0       ...           7.31304      7.60297            Product_Quality   \n",
       "2       0       ...           7.31304      7.60297  Account_Team_Relationship   \n",
       "\n",
       "            theme2  theme3                            themes  \\\n",
       "0  Product_Quality          Product_Quality,Product_Quality,   \n",
       "1  Product_Quality          Product_Quality,Product_Quality,   \n",
       "1                                Account_Team_Relationship,,   \n",
       "2                                          Product_Quality,,   \n",
       "2                                Account_Team_Relationship,,   \n",
       "\n",
       "                     themesa  Support  Account_Team_Relationship  \\\n",
       "0            Product_Quality        0                          0   \n",
       "1            Product_Quality        0                          0   \n",
       "1  Account_Team_Relationship        0                          1   \n",
       "2            Product_Quality        0                          0   \n",
       "2  Account_Team_Relationship        0                          1   \n",
       "\n",
       "   Product_Quality  \n",
       "0                1  \n",
       "1                1  \n",
       "1                0  \n",
       "2                1  \n",
       "2                0  \n",
       "\n",
       "[5 rows x 39 columns]"
      ]
     },
     "execution_count": 171,
     "metadata": {},
     "output_type": "execute_result"
    }
   ],
   "source": [
    "df5.head()"
   ]
  },
  {
   "cell_type": "code",
   "execution_count": 172,
   "metadata": {
    "collapsed": false
   },
   "outputs": [
    {
     "name": "stdout",
     "output_type": "stream",
     "text": [
      "[[0 1 0]\n",
      " [1 0 0]\n",
      " [0 1 1]\n",
      " ..., \n",
      " [0 1 0]\n",
      " [0 1 0]\n",
      " [0 0 1]]\n",
      "[[1 1 1]\n",
      " [1 1 0]\n",
      " [0 1 0]\n",
      " ..., \n",
      " [0 0 1]\n",
      " [1 0 1]\n",
      " [1 1 0]]\n",
      "jaccard similarity 0.347794649313\n",
      "hamming_loss 0.504699927693\n",
      "             precision    recall  f1-score   support\n",
      "\n",
      "          0       0.37      0.67      0.48       160\n",
      "          1       0.37      0.60      0.46       177\n",
      "          2       0.49      0.38      0.43       207\n",
      "\n",
      "avg / total       0.42      0.53      0.45       544\n",
      "\n"
     ]
    }
   ],
   "source": [
    "import numpy as np\n",
    "from sklearn.pipeline import Pipeline\n",
    "from sklearn.feature_extraction.text import CountVectorizer\n",
    "from sklearn.svm import LinearSVC\n",
    "from sklearn.feature_extraction.text import TfidfTransformer\n",
    "from sklearn.multiclass import OneVsRestClassifier\n",
    "from sklearn import preprocessing\n",
    "from sklearn.metrics import jaccard_similarity_score, hamming_loss, zero_one_loss, confusion_matrix, classification_report\n",
    "\n",
    "\n",
    "from sklearn.cross_validation import train_test_split\n",
    "X=df5.iloc[:,0:20]\n",
    "y=np.array(df5.iloc[:,36:39])\n",
    "# create 80%-20% train-test split\n",
    "X_train, X_test, y_train, y_test = train_test_split(X, y, test_size=0.2, random_state=444)\n",
    "\n",
    "print y_test\n",
    "\n",
    "classifier = OneVsRestClassifier(LinearSVC(class_weight='balanced', random_state=444,  penalty='l2',\n",
    "                                           loss='squared_hinge', \n",
    "                                           dual=True, tol=0.0001, C=1.0, multi_class='ovr', fit_intercept=True,\n",
    "                                           intercept_scaling=1, \n",
    "                                           max_iter=1000))\n",
    "\n",
    "classifier.fit(X_train, y_train)\n",
    "predicted = classifier.predict(X_test)\n",
    "print predicted\n",
    "print 'jaccard similarity', jaccard_similarity_score(y_test, predicted)\n",
    "print 'hamming_loss',hamming_loss(y_test, predicted)\n",
    "print(classification_report(y_test, predicted))"
   ]
  },
  {
   "cell_type": "code",
   "execution_count": 173,
   "metadata": {
    "collapsed": false
   },
   "outputs": [
    {
     "data": {
      "text/plain": [
       "array([[0, 1, 0],\n",
       "       [1, 0, 0],\n",
       "       [0, 1, 1],\n",
       "       [0, 0, 1],\n",
       "       [0, 0, 1],\n",
       "       [0, 1, 0],\n",
       "       [0, 1, 0],\n",
       "       [1, 1, 0],\n",
       "       [0, 1, 0],\n",
       "       [0, 0, 1]])"
      ]
     },
     "execution_count": 173,
     "metadata": {},
     "output_type": "execute_result"
    }
   ],
   "source": [
    "y_test[:10]"
   ]
  },
  {
   "cell_type": "code",
   "execution_count": 174,
   "metadata": {
    "collapsed": false
   },
   "outputs": [
    {
     "data": {
      "text/plain": [
       "array([[1, 1, 1],\n",
       "       [1, 1, 0],\n",
       "       [0, 1, 0],\n",
       "       [1, 1, 0],\n",
       "       [1, 0, 1],\n",
       "       [1, 1, 0],\n",
       "       [0, 1, 1],\n",
       "       [0, 0, 1],\n",
       "       [1, 0, 0],\n",
       "       [0, 1, 1]])"
      ]
     },
     "execution_count": 174,
     "metadata": {},
     "output_type": "execute_result"
    }
   ],
   "source": [
    "predicted[:10]"
   ]
  },
  {
   "cell_type": "code",
   "execution_count": 175,
   "metadata": {
    "collapsed": false
   },
   "outputs": [],
   "source": [
    "from sklearn import cross_validation\n",
    "predicted = cross_validation.cross_val_predict(classifier, X, y, cv=20)"
   ]
  },
  {
   "cell_type": "code",
   "execution_count": 176,
   "metadata": {
    "collapsed": false
   },
   "outputs": [
    {
     "name": "stdout",
     "output_type": "stream",
     "text": [
      "Accuracy: 0.53 (+/- 1.00)\n"
     ]
    }
   ],
   "source": [
    "print(\"Accuracy: %0.2f (+/- %0.2f)\" % (predicted.mean(), predicted.std() * 2))"
   ]
  }
 ],
 "metadata": {
  "kernelspec": {
   "display_name": "Python 2",
   "language": "python",
   "name": "python2"
  },
  "language_info": {
   "codemirror_mode": {
    "name": "ipython",
    "version": 2
   },
   "file_extension": ".py",
   "mimetype": "text/x-python",
   "name": "python",
   "nbconvert_exporter": "python",
   "pygments_lexer": "ipython2",
   "version": "2.7.11"
  }
 },
 "nbformat": 4,
 "nbformat_minor": 0
}
